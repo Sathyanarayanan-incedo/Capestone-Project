{
  "nbformat": 4,
  "nbformat_minor": 0,
  "metadata": {
    "colab": {
      "name": "Untitled7.ipynb",
      "provenance": [],
      "collapsed_sections": []
    },
    "kernelspec": {
      "name": "python3",
      "display_name": "Python 3"
    },
    "language_info": {
      "name": "python"
    }
  },
  "cells": [
    {
      "cell_type": "code",
      "execution_count": 148,
      "metadata": {
        "colab": {
          "resources": {
            "http://localhost:8080/nbextensions/google.colab/files.js": {
              "data": "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",
              "ok": true,
              "headers": [
                [
                  "content-type",
                  "application/javascript"
                ]
              ],
              "status": 200,
              "status_text": ""
            }
          },
          "base_uri": "https://localhost:8080/",
          "height": 73
        },
        "id": "_IRt0g1aMuJe",
        "outputId": "8a32725a-c204-4f1c-e0b9-4b9458e1366d"
      },
      "outputs": [
        {
          "output_type": "display_data",
          "data": {
            "text/plain": [
              "<IPython.core.display.HTML object>"
            ],
            "text/html": [
              "\n",
              "     <input type=\"file\" id=\"files-54e14dc3-9eb2-4579-86a5-5cc9f47f8577\" name=\"files[]\" multiple disabled\n",
              "        style=\"border:none\" />\n",
              "     <output id=\"result-54e14dc3-9eb2-4579-86a5-5cc9f47f8577\">\n",
              "      Upload widget is only available when the cell has been executed in the\n",
              "      current browser session. Please rerun this cell to enable.\n",
              "      </output>\n",
              "      <script src=\"/nbextensions/google.colab/files.js\"></script> "
            ]
          },
          "metadata": {}
        },
        {
          "output_type": "stream",
          "name": "stdout",
          "text": [
            "Saving file.csv to file (4).csv\n"
          ]
        }
      ],
      "source": [
        "# Importation of necessary packages and modules and loading Dataset\n",
        "\n",
        "from google.colab import files\n",
        "import pandas as pd\n",
        "import io\n",
        "uploaded = files.upload()"
      ]
    },
    {
      "cell_type": "code",
      "source": [
        "df = pd.read_csv(io.BytesIO(uploaded['file.csv']))\n",
        "df"
      ],
      "metadata": {
        "colab": {
          "base_uri": "https://localhost:8080/",
          "height": 424
        },
        "id": "72e_vVVrOtAc",
        "outputId": "2c11f4a4-0ae8-46d4-ae24-94453c270d8f"
      },
      "execution_count": 149,
      "outputs": [
        {
          "output_type": "execute_result",
          "data": {
            "text/plain": [
              "                   Name              Date  \\\n",
              "0             Soma Shil  09-05-2022 08:48   \n",
              "1       Babita Upadhyay  09-05-2022 08:52   \n",
              "2           Beena Gupta  09-05-2022 10:04   \n",
              "3          Gagan Singha  09-05-2022 10:16   \n",
              "4           Kiriv Sidhu  09-05-2022 10:47   \n",
              "..                  ...               ...   \n",
              "225       TeQuell Tyler  01-04-2022 21:20   \n",
              "226    Kathleen Schwarz  05-04-2022 13:28   \n",
              "227       Samantha Jack  06-04-2022 16:59   \n",
              "228      Milez Fasnacht  17-05-2022 21:29   \n",
              "229  Justin Blankenship  03-06-2022 21:07   \n",
              "\n",
              "                                               Comment  \n",
              "0                                     Happy mother day  \n",
              "1                               l am waiting 15 Th may  \n",
              "2                                   Happy mother's day  \n",
              "3    Guys n gals in your best interests, i have tra...  \n",
              "4    \\r[PHOTO] https://scontent-atl3-2.xx.fbcdn.net...  \n",
              "..                                                 ...  \n",
              "225  So certain people can't cash checks at your ba...  \n",
              "226  Victoria Mathew is an expert in forex and cryp...  \n",
              "227  Hello,i am Samantha and I am available for hoo...  \n",
              "228  I've been a victim of fraud last March and you...  \n",
              "229  Worst bank ever. Refuses to refund $1,450 that...  \n",
              "\n",
              "[230 rows x 3 columns]"
            ],
            "text/html": [
              "\n",
              "  <div id=\"df-54bca1e5-6d59-464c-9f7e-b652c9e01f8a\">\n",
              "    <div class=\"colab-df-container\">\n",
              "      <div>\n",
              "<style scoped>\n",
              "    .dataframe tbody tr th:only-of-type {\n",
              "        vertical-align: middle;\n",
              "    }\n",
              "\n",
              "    .dataframe tbody tr th {\n",
              "        vertical-align: top;\n",
              "    }\n",
              "\n",
              "    .dataframe thead th {\n",
              "        text-align: right;\n",
              "    }\n",
              "</style>\n",
              "<table border=\"1\" class=\"dataframe\">\n",
              "  <thead>\n",
              "    <tr style=\"text-align: right;\">\n",
              "      <th></th>\n",
              "      <th>Name</th>\n",
              "      <th>Date</th>\n",
              "      <th>Comment</th>\n",
              "    </tr>\n",
              "  </thead>\n",
              "  <tbody>\n",
              "    <tr>\n",
              "      <th>0</th>\n",
              "      <td>Soma Shil</td>\n",
              "      <td>09-05-2022 08:48</td>\n",
              "      <td>Happy mother day</td>\n",
              "    </tr>\n",
              "    <tr>\n",
              "      <th>1</th>\n",
              "      <td>Babita Upadhyay</td>\n",
              "      <td>09-05-2022 08:52</td>\n",
              "      <td>l am waiting 15 Th may</td>\n",
              "    </tr>\n",
              "    <tr>\n",
              "      <th>2</th>\n",
              "      <td>Beena Gupta</td>\n",
              "      <td>09-05-2022 10:04</td>\n",
              "      <td>Happy mother's day</td>\n",
              "    </tr>\n",
              "    <tr>\n",
              "      <th>3</th>\n",
              "      <td>Gagan Singha</td>\n",
              "      <td>09-05-2022 10:16</td>\n",
              "      <td>Guys n gals in your best interests, i have tra...</td>\n",
              "    </tr>\n",
              "    <tr>\n",
              "      <th>4</th>\n",
              "      <td>Kiriv Sidhu</td>\n",
              "      <td>09-05-2022 10:47</td>\n",
              "      <td>\\r[PHOTO] https://scontent-atl3-2.xx.fbcdn.net...</td>\n",
              "    </tr>\n",
              "    <tr>\n",
              "      <th>...</th>\n",
              "      <td>...</td>\n",
              "      <td>...</td>\n",
              "      <td>...</td>\n",
              "    </tr>\n",
              "    <tr>\n",
              "      <th>225</th>\n",
              "      <td>TeQuell Tyler</td>\n",
              "      <td>01-04-2022 21:20</td>\n",
              "      <td>So certain people can't cash checks at your ba...</td>\n",
              "    </tr>\n",
              "    <tr>\n",
              "      <th>226</th>\n",
              "      <td>Kathleen Schwarz</td>\n",
              "      <td>05-04-2022 13:28</td>\n",
              "      <td>Victoria Mathew is an expert in forex and cryp...</td>\n",
              "    </tr>\n",
              "    <tr>\n",
              "      <th>227</th>\n",
              "      <td>Samantha Jack</td>\n",
              "      <td>06-04-2022 16:59</td>\n",
              "      <td>Hello,i am Samantha and I am available for hoo...</td>\n",
              "    </tr>\n",
              "    <tr>\n",
              "      <th>228</th>\n",
              "      <td>Milez Fasnacht</td>\n",
              "      <td>17-05-2022 21:29</td>\n",
              "      <td>I've been a victim of fraud last March and you...</td>\n",
              "    </tr>\n",
              "    <tr>\n",
              "      <th>229</th>\n",
              "      <td>Justin Blankenship</td>\n",
              "      <td>03-06-2022 21:07</td>\n",
              "      <td>Worst bank ever. Refuses to refund $1,450 that...</td>\n",
              "    </tr>\n",
              "  </tbody>\n",
              "</table>\n",
              "<p>230 rows × 3 columns</p>\n",
              "</div>\n",
              "      <button class=\"colab-df-convert\" onclick=\"convertToInteractive('df-54bca1e5-6d59-464c-9f7e-b652c9e01f8a')\"\n",
              "              title=\"Convert this dataframe to an interactive table.\"\n",
              "              style=\"display:none;\">\n",
              "        \n",
              "  <svg xmlns=\"http://www.w3.org/2000/svg\" height=\"24px\"viewBox=\"0 0 24 24\"\n",
              "       width=\"24px\">\n",
              "    <path d=\"M0 0h24v24H0V0z\" fill=\"none\"/>\n",
              "    <path d=\"M18.56 5.44l.94 2.06.94-2.06 2.06-.94-2.06-.94-.94-2.06-.94 2.06-2.06.94zm-11 1L8.5 8.5l.94-2.06 2.06-.94-2.06-.94L8.5 2.5l-.94 2.06-2.06.94zm10 10l.94 2.06.94-2.06 2.06-.94-2.06-.94-.94-2.06-.94 2.06-2.06.94z\"/><path d=\"M17.41 7.96l-1.37-1.37c-.4-.4-.92-.59-1.43-.59-.52 0-1.04.2-1.43.59L10.3 9.45l-7.72 7.72c-.78.78-.78 2.05 0 2.83L4 21.41c.39.39.9.59 1.41.59.51 0 1.02-.2 1.41-.59l7.78-7.78 2.81-2.81c.8-.78.8-2.07 0-2.86zM5.41 20L4 18.59l7.72-7.72 1.47 1.35L5.41 20z\"/>\n",
              "  </svg>\n",
              "      </button>\n",
              "      \n",
              "  <style>\n",
              "    .colab-df-container {\n",
              "      display:flex;\n",
              "      flex-wrap:wrap;\n",
              "      gap: 12px;\n",
              "    }\n",
              "\n",
              "    .colab-df-convert {\n",
              "      background-color: #E8F0FE;\n",
              "      border: none;\n",
              "      border-radius: 50%;\n",
              "      cursor: pointer;\n",
              "      display: none;\n",
              "      fill: #1967D2;\n",
              "      height: 32px;\n",
              "      padding: 0 0 0 0;\n",
              "      width: 32px;\n",
              "    }\n",
              "\n",
              "    .colab-df-convert:hover {\n",
              "      background-color: #E2EBFA;\n",
              "      box-shadow: 0px 1px 2px rgba(60, 64, 67, 0.3), 0px 1px 3px 1px rgba(60, 64, 67, 0.15);\n",
              "      fill: #174EA6;\n",
              "    }\n",
              "\n",
              "    [theme=dark] .colab-df-convert {\n",
              "      background-color: #3B4455;\n",
              "      fill: #D2E3FC;\n",
              "    }\n",
              "\n",
              "    [theme=dark] .colab-df-convert:hover {\n",
              "      background-color: #434B5C;\n",
              "      box-shadow: 0px 1px 3px 1px rgba(0, 0, 0, 0.15);\n",
              "      filter: drop-shadow(0px 1px 2px rgba(0, 0, 0, 0.3));\n",
              "      fill: #FFFFFF;\n",
              "    }\n",
              "  </style>\n",
              "\n",
              "      <script>\n",
              "        const buttonEl =\n",
              "          document.querySelector('#df-54bca1e5-6d59-464c-9f7e-b652c9e01f8a button.colab-df-convert');\n",
              "        buttonEl.style.display =\n",
              "          google.colab.kernel.accessAllowed ? 'block' : 'none';\n",
              "\n",
              "        async function convertToInteractive(key) {\n",
              "          const element = document.querySelector('#df-54bca1e5-6d59-464c-9f7e-b652c9e01f8a');\n",
              "          const dataTable =\n",
              "            await google.colab.kernel.invokeFunction('convertToInteractive',\n",
              "                                                     [key], {});\n",
              "          if (!dataTable) return;\n",
              "\n",
              "          const docLinkHtml = 'Like what you see? Visit the ' +\n",
              "            '<a target=\"_blank\" href=https://colab.research.google.com/notebooks/data_table.ipynb>data table notebook</a>'\n",
              "            + ' to learn more about interactive tables.';\n",
              "          element.innerHTML = '';\n",
              "          dataTable['output_type'] = 'display_data';\n",
              "          await google.colab.output.renderOutput(dataTable, element);\n",
              "          const docLink = document.createElement('div');\n",
              "          docLink.innerHTML = docLinkHtml;\n",
              "          element.appendChild(docLink);\n",
              "        }\n",
              "      </script>\n",
              "    </div>\n",
              "  </div>\n",
              "  "
            ]
          },
          "metadata": {},
          "execution_count": 149
        }
      ]
    },
    {
      "cell_type": "code",
      "source": [
        "# FaceBook Comments DataFrame creation\n",
        "\n",
        "df = pd.read_csv(io.BytesIO(uploaded['file.csv']))\n",
        "df = pd.DataFrame(df,columns=['Name','Date','Comment'])\n",
        "df"
      ],
      "metadata": {
        "colab": {
          "base_uri": "https://localhost:8080/",
          "height": 424
        },
        "id": "t3g1OFyONa1G",
        "outputId": "bfcdbac5-06c7-4eec-9847-484161bb869f"
      },
      "execution_count": 150,
      "outputs": [
        {
          "output_type": "execute_result",
          "data": {
            "text/plain": [
              "                   Name              Date  \\\n",
              "0             Soma Shil  09-05-2022 08:48   \n",
              "1       Babita Upadhyay  09-05-2022 08:52   \n",
              "2           Beena Gupta  09-05-2022 10:04   \n",
              "3          Gagan Singha  09-05-2022 10:16   \n",
              "4           Kiriv Sidhu  09-05-2022 10:47   \n",
              "..                  ...               ...   \n",
              "225       TeQuell Tyler  01-04-2022 21:20   \n",
              "226    Kathleen Schwarz  05-04-2022 13:28   \n",
              "227       Samantha Jack  06-04-2022 16:59   \n",
              "228      Milez Fasnacht  17-05-2022 21:29   \n",
              "229  Justin Blankenship  03-06-2022 21:07   \n",
              "\n",
              "                                               Comment  \n",
              "0                                     Happy mother day  \n",
              "1                               l am waiting 15 Th may  \n",
              "2                                   Happy mother's day  \n",
              "3    Guys n gals in your best interests, i have tra...  \n",
              "4    \\r[PHOTO] https://scontent-atl3-2.xx.fbcdn.net...  \n",
              "..                                                 ...  \n",
              "225  So certain people can't cash checks at your ba...  \n",
              "226  Victoria Mathew is an expert in forex and cryp...  \n",
              "227  Hello,i am Samantha and I am available for hoo...  \n",
              "228  I've been a victim of fraud last March and you...  \n",
              "229  Worst bank ever. Refuses to refund $1,450 that...  \n",
              "\n",
              "[230 rows x 3 columns]"
            ],
            "text/html": [
              "\n",
              "  <div id=\"df-da3fc52f-5ae5-4732-b6ab-b8ff302f0879\">\n",
              "    <div class=\"colab-df-container\">\n",
              "      <div>\n",
              "<style scoped>\n",
              "    .dataframe tbody tr th:only-of-type {\n",
              "        vertical-align: middle;\n",
              "    }\n",
              "\n",
              "    .dataframe tbody tr th {\n",
              "        vertical-align: top;\n",
              "    }\n",
              "\n",
              "    .dataframe thead th {\n",
              "        text-align: right;\n",
              "    }\n",
              "</style>\n",
              "<table border=\"1\" class=\"dataframe\">\n",
              "  <thead>\n",
              "    <tr style=\"text-align: right;\">\n",
              "      <th></th>\n",
              "      <th>Name</th>\n",
              "      <th>Date</th>\n",
              "      <th>Comment</th>\n",
              "    </tr>\n",
              "  </thead>\n",
              "  <tbody>\n",
              "    <tr>\n",
              "      <th>0</th>\n",
              "      <td>Soma Shil</td>\n",
              "      <td>09-05-2022 08:48</td>\n",
              "      <td>Happy mother day</td>\n",
              "    </tr>\n",
              "    <tr>\n",
              "      <th>1</th>\n",
              "      <td>Babita Upadhyay</td>\n",
              "      <td>09-05-2022 08:52</td>\n",
              "      <td>l am waiting 15 Th may</td>\n",
              "    </tr>\n",
              "    <tr>\n",
              "      <th>2</th>\n",
              "      <td>Beena Gupta</td>\n",
              "      <td>09-05-2022 10:04</td>\n",
              "      <td>Happy mother's day</td>\n",
              "    </tr>\n",
              "    <tr>\n",
              "      <th>3</th>\n",
              "      <td>Gagan Singha</td>\n",
              "      <td>09-05-2022 10:16</td>\n",
              "      <td>Guys n gals in your best interests, i have tra...</td>\n",
              "    </tr>\n",
              "    <tr>\n",
              "      <th>4</th>\n",
              "      <td>Kiriv Sidhu</td>\n",
              "      <td>09-05-2022 10:47</td>\n",
              "      <td>\\r[PHOTO] https://scontent-atl3-2.xx.fbcdn.net...</td>\n",
              "    </tr>\n",
              "    <tr>\n",
              "      <th>...</th>\n",
              "      <td>...</td>\n",
              "      <td>...</td>\n",
              "      <td>...</td>\n",
              "    </tr>\n",
              "    <tr>\n",
              "      <th>225</th>\n",
              "      <td>TeQuell Tyler</td>\n",
              "      <td>01-04-2022 21:20</td>\n",
              "      <td>So certain people can't cash checks at your ba...</td>\n",
              "    </tr>\n",
              "    <tr>\n",
              "      <th>226</th>\n",
              "      <td>Kathleen Schwarz</td>\n",
              "      <td>05-04-2022 13:28</td>\n",
              "      <td>Victoria Mathew is an expert in forex and cryp...</td>\n",
              "    </tr>\n",
              "    <tr>\n",
              "      <th>227</th>\n",
              "      <td>Samantha Jack</td>\n",
              "      <td>06-04-2022 16:59</td>\n",
              "      <td>Hello,i am Samantha and I am available for hoo...</td>\n",
              "    </tr>\n",
              "    <tr>\n",
              "      <th>228</th>\n",
              "      <td>Milez Fasnacht</td>\n",
              "      <td>17-05-2022 21:29</td>\n",
              "      <td>I've been a victim of fraud last March and you...</td>\n",
              "    </tr>\n",
              "    <tr>\n",
              "      <th>229</th>\n",
              "      <td>Justin Blankenship</td>\n",
              "      <td>03-06-2022 21:07</td>\n",
              "      <td>Worst bank ever. Refuses to refund $1,450 that...</td>\n",
              "    </tr>\n",
              "  </tbody>\n",
              "</table>\n",
              "<p>230 rows × 3 columns</p>\n",
              "</div>\n",
              "      <button class=\"colab-df-convert\" onclick=\"convertToInteractive('df-da3fc52f-5ae5-4732-b6ab-b8ff302f0879')\"\n",
              "              title=\"Convert this dataframe to an interactive table.\"\n",
              "              style=\"display:none;\">\n",
              "        \n",
              "  <svg xmlns=\"http://www.w3.org/2000/svg\" height=\"24px\"viewBox=\"0 0 24 24\"\n",
              "       width=\"24px\">\n",
              "    <path d=\"M0 0h24v24H0V0z\" fill=\"none\"/>\n",
              "    <path d=\"M18.56 5.44l.94 2.06.94-2.06 2.06-.94-2.06-.94-.94-2.06-.94 2.06-2.06.94zm-11 1L8.5 8.5l.94-2.06 2.06-.94-2.06-.94L8.5 2.5l-.94 2.06-2.06.94zm10 10l.94 2.06.94-2.06 2.06-.94-2.06-.94-.94-2.06-.94 2.06-2.06.94z\"/><path d=\"M17.41 7.96l-1.37-1.37c-.4-.4-.92-.59-1.43-.59-.52 0-1.04.2-1.43.59L10.3 9.45l-7.72 7.72c-.78.78-.78 2.05 0 2.83L4 21.41c.39.39.9.59 1.41.59.51 0 1.02-.2 1.41-.59l7.78-7.78 2.81-2.81c.8-.78.8-2.07 0-2.86zM5.41 20L4 18.59l7.72-7.72 1.47 1.35L5.41 20z\"/>\n",
              "  </svg>\n",
              "      </button>\n",
              "      \n",
              "  <style>\n",
              "    .colab-df-container {\n",
              "      display:flex;\n",
              "      flex-wrap:wrap;\n",
              "      gap: 12px;\n",
              "    }\n",
              "\n",
              "    .colab-df-convert {\n",
              "      background-color: #E8F0FE;\n",
              "      border: none;\n",
              "      border-radius: 50%;\n",
              "      cursor: pointer;\n",
              "      display: none;\n",
              "      fill: #1967D2;\n",
              "      height: 32px;\n",
              "      padding: 0 0 0 0;\n",
              "      width: 32px;\n",
              "    }\n",
              "\n",
              "    .colab-df-convert:hover {\n",
              "      background-color: #E2EBFA;\n",
              "      box-shadow: 0px 1px 2px rgba(60, 64, 67, 0.3), 0px 1px 3px 1px rgba(60, 64, 67, 0.15);\n",
              "      fill: #174EA6;\n",
              "    }\n",
              "\n",
              "    [theme=dark] .colab-df-convert {\n",
              "      background-color: #3B4455;\n",
              "      fill: #D2E3FC;\n",
              "    }\n",
              "\n",
              "    [theme=dark] .colab-df-convert:hover {\n",
              "      background-color: #434B5C;\n",
              "      box-shadow: 0px 1px 3px 1px rgba(0, 0, 0, 0.15);\n",
              "      filter: drop-shadow(0px 1px 2px rgba(0, 0, 0, 0.3));\n",
              "      fill: #FFFFFF;\n",
              "    }\n",
              "  </style>\n",
              "\n",
              "      <script>\n",
              "        const buttonEl =\n",
              "          document.querySelector('#df-da3fc52f-5ae5-4732-b6ab-b8ff302f0879 button.colab-df-convert');\n",
              "        buttonEl.style.display =\n",
              "          google.colab.kernel.accessAllowed ? 'block' : 'none';\n",
              "\n",
              "        async function convertToInteractive(key) {\n",
              "          const element = document.querySelector('#df-da3fc52f-5ae5-4732-b6ab-b8ff302f0879');\n",
              "          const dataTable =\n",
              "            await google.colab.kernel.invokeFunction('convertToInteractive',\n",
              "                                                     [key], {});\n",
              "          if (!dataTable) return;\n",
              "\n",
              "          const docLinkHtml = 'Like what you see? Visit the ' +\n",
              "            '<a target=\"_blank\" href=https://colab.research.google.com/notebooks/data_table.ipynb>data table notebook</a>'\n",
              "            + ' to learn more about interactive tables.';\n",
              "          element.innerHTML = '';\n",
              "          dataTable['output_type'] = 'display_data';\n",
              "          await google.colab.output.renderOutput(dataTable, element);\n",
              "          const docLink = document.createElement('div');\n",
              "          docLink.innerHTML = docLinkHtml;\n",
              "          element.appendChild(docLink);\n",
              "        }\n",
              "      </script>\n",
              "    </div>\n",
              "  </div>\n",
              "  "
            ]
          },
          "metadata": {},
          "execution_count": 150
        }
      ]
    },
    {
      "cell_type": "code",
      "source": [
        "# Data Pre-processing\n",
        "\n",
        "from datetime import datetime\n",
        "df['Comment'] = df['Comment'].astype(str)\n",
        "df['Name'] = df['Name'].astype(str)\n",
        "df['Date'] = pd.to_datetime(df['Date'])"
      ],
      "metadata": {
        "id": "BGNSk2J2PYh9"
      },
      "execution_count": 151,
      "outputs": []
    },
    {
      "cell_type": "code",
      "source": [
        "# Comments Pre-processing\n",
        "\n",
        "import re\n",
        "def Comment_cleaner(text):\n",
        "  text = re.sub(r'@[A-Za-z0-9]+', '',text)\n",
        "  text = re.sub(r'@__[A-Za-z0-9]+', '',text)\n",
        "  text = re.sub(r'__[A-Za-z0-9]+', '',text)\n",
        "  text = re.sub(r'_[A-Za-z0-9]+', '',text)\n",
        "  text = re.sub(r'$[A-Za-z0-9]+', '',text)\n",
        "  text = re.sub(r'&[A-Za-z0-9]+', '',text)\n",
        "  text = re.sub(r'CITIBANK', '',text)\n",
        "  text = re.sub(r'Citi', '',text)\n",
        "  text = re.sub(r'Bank', '',text)\n",
        "  text = re.sub(r'bank', '',text)\n",
        "  text = re.sub(r'citi', '',text)\n",
        "  text = re.sub(r'\\+', '',text)\n",
        "  text = re.sub(r'@', '',text)\n",
        "  text = re.sub(r':', '',text)\n",
        "  text = re.sub(r';', '',text)\n",
        "  text = re.sub(r'#', '',text)\n",
        "  text = re.sub(r'https:[A-Za-z0-9]+', '',text)\n",
        "  text = re.sub(r'httpst.coN00hRkICzI', '',text)\n",
        "  text = re.sub(r'https://[A-Za-z0-9]+', '',text)\n",
        "  text = re.sub(r'httpst://[A-Za-z0-9]+', '',text)\n",
        "  text = re.sub(r'httpst[A-Za-z0-9]+', '',text)\n",
        "  text = re.sub(r'htt[A-Za-z0-9]+', '',text)\n",
        "  text = re.sub(r'httpst.[A-Za-z0-9]+', '',text)\n",
        "  text = re.sub(r'httpst', '',text)\n",
        "  text = re.sub(r'http:[A-Za-z0-9]+', '',text)\n",
        "  text = re.sub(r'http://[A-Za-z0-9]+', '',text)\n",
        "  text = re.sub(r'citi bank', '',text)\n",
        "  text = re.sub(r'citibank', '',text)\n",
        "  text = re.sub(r'Citi bank', '',text)\n",
        "  text = re.sub(r'Citibank', '',text)\n",
        "  text = re.sub(r'Citi Bank', '',text)\n",
        "  text = re.sub(r'CitiBank', '',text)\n",
        "  text = re.sub(r'-', '',text)\n",
        "  text = re.sub(r'/', '',text)\n",
        "  text = re.sub(r',', '',text)\n",
        "  text = re.sub(r'https', '',text)\n",
        "  return text\n",
        "df['Comment'] = df['Comment'].apply(Comment_cleaner)\n",
        "df"
      ],
      "metadata": {
        "colab": {
          "base_uri": "https://localhost:8080/",
          "height": 424
        },
        "id": "OW-tLSgtNy0W",
        "outputId": "98d069c1-28ac-473e-a670-772eab330ad2"
      },
      "execution_count": 152,
      "outputs": [
        {
          "output_type": "execute_result",
          "data": {
            "text/plain": [
              "                   Name                Date  \\\n",
              "0             Soma Shil 2022-09-05 08:48:00   \n",
              "1       Babita Upadhyay 2022-09-05 08:52:00   \n",
              "2           Beena Gupta 2022-09-05 10:04:00   \n",
              "3          Gagan Singha 2022-09-05 10:16:00   \n",
              "4           Kiriv Sidhu 2022-09-05 10:47:00   \n",
              "..                  ...                 ...   \n",
              "225       TeQuell Tyler 2022-01-04 21:20:00   \n",
              "226    Kathleen Schwarz 2022-05-04 13:28:00   \n",
              "227       Samantha Jack 2022-06-04 16:59:00   \n",
              "228      Milez Fasnacht 2022-05-17 21:29:00   \n",
              "229  Justin Blankenship 2022-03-06 21:07:00   \n",
              "\n",
              "                                               Comment  \n",
              "0                                     Happy mother day  \n",
              "1                               l am waiting 15 Th may  \n",
              "2                                   Happy mother's day  \n",
              "3    Guys n gals in your best interests i have trav...  \n",
              "4    \\r[PHOTO] scontentatl32.xx.fbcdn.netvt39.19976...  \n",
              "..                                                 ...  \n",
              "225  So certain people can't cash checks at your ? ...  \n",
              "226  Victoria Mathew is an expert in forex and cryp...  \n",
              "227  Helloi am Samantha and I am available for hook...  \n",
              "228  I've been a victim of fraud last March and you...  \n",
              "229  Worst  ever. Refuses to refund $1450 that was ...  \n",
              "\n",
              "[230 rows x 3 columns]"
            ],
            "text/html": [
              "\n",
              "  <div id=\"df-24917d87-45b0-48ec-8de1-ef6cbdf6a8ef\">\n",
              "    <div class=\"colab-df-container\">\n",
              "      <div>\n",
              "<style scoped>\n",
              "    .dataframe tbody tr th:only-of-type {\n",
              "        vertical-align: middle;\n",
              "    }\n",
              "\n",
              "    .dataframe tbody tr th {\n",
              "        vertical-align: top;\n",
              "    }\n",
              "\n",
              "    .dataframe thead th {\n",
              "        text-align: right;\n",
              "    }\n",
              "</style>\n",
              "<table border=\"1\" class=\"dataframe\">\n",
              "  <thead>\n",
              "    <tr style=\"text-align: right;\">\n",
              "      <th></th>\n",
              "      <th>Name</th>\n",
              "      <th>Date</th>\n",
              "      <th>Comment</th>\n",
              "    </tr>\n",
              "  </thead>\n",
              "  <tbody>\n",
              "    <tr>\n",
              "      <th>0</th>\n",
              "      <td>Soma Shil</td>\n",
              "      <td>2022-09-05 08:48:00</td>\n",
              "      <td>Happy mother day</td>\n",
              "    </tr>\n",
              "    <tr>\n",
              "      <th>1</th>\n",
              "      <td>Babita Upadhyay</td>\n",
              "      <td>2022-09-05 08:52:00</td>\n",
              "      <td>l am waiting 15 Th may</td>\n",
              "    </tr>\n",
              "    <tr>\n",
              "      <th>2</th>\n",
              "      <td>Beena Gupta</td>\n",
              "      <td>2022-09-05 10:04:00</td>\n",
              "      <td>Happy mother's day</td>\n",
              "    </tr>\n",
              "    <tr>\n",
              "      <th>3</th>\n",
              "      <td>Gagan Singha</td>\n",
              "      <td>2022-09-05 10:16:00</td>\n",
              "      <td>Guys n gals in your best interests i have trav...</td>\n",
              "    </tr>\n",
              "    <tr>\n",
              "      <th>4</th>\n",
              "      <td>Kiriv Sidhu</td>\n",
              "      <td>2022-09-05 10:47:00</td>\n",
              "      <td>\\r[PHOTO] scontentatl32.xx.fbcdn.netvt39.19976...</td>\n",
              "    </tr>\n",
              "    <tr>\n",
              "      <th>...</th>\n",
              "      <td>...</td>\n",
              "      <td>...</td>\n",
              "      <td>...</td>\n",
              "    </tr>\n",
              "    <tr>\n",
              "      <th>225</th>\n",
              "      <td>TeQuell Tyler</td>\n",
              "      <td>2022-01-04 21:20:00</td>\n",
              "      <td>So certain people can't cash checks at your ? ...</td>\n",
              "    </tr>\n",
              "    <tr>\n",
              "      <th>226</th>\n",
              "      <td>Kathleen Schwarz</td>\n",
              "      <td>2022-05-04 13:28:00</td>\n",
              "      <td>Victoria Mathew is an expert in forex and cryp...</td>\n",
              "    </tr>\n",
              "    <tr>\n",
              "      <th>227</th>\n",
              "      <td>Samantha Jack</td>\n",
              "      <td>2022-06-04 16:59:00</td>\n",
              "      <td>Helloi am Samantha and I am available for hook...</td>\n",
              "    </tr>\n",
              "    <tr>\n",
              "      <th>228</th>\n",
              "      <td>Milez Fasnacht</td>\n",
              "      <td>2022-05-17 21:29:00</td>\n",
              "      <td>I've been a victim of fraud last March and you...</td>\n",
              "    </tr>\n",
              "    <tr>\n",
              "      <th>229</th>\n",
              "      <td>Justin Blankenship</td>\n",
              "      <td>2022-03-06 21:07:00</td>\n",
              "      <td>Worst  ever. Refuses to refund $1450 that was ...</td>\n",
              "    </tr>\n",
              "  </tbody>\n",
              "</table>\n",
              "<p>230 rows × 3 columns</p>\n",
              "</div>\n",
              "      <button class=\"colab-df-convert\" onclick=\"convertToInteractive('df-24917d87-45b0-48ec-8de1-ef6cbdf6a8ef')\"\n",
              "              title=\"Convert this dataframe to an interactive table.\"\n",
              "              style=\"display:none;\">\n",
              "        \n",
              "  <svg xmlns=\"http://www.w3.org/2000/svg\" height=\"24px\"viewBox=\"0 0 24 24\"\n",
              "       width=\"24px\">\n",
              "    <path d=\"M0 0h24v24H0V0z\" fill=\"none\"/>\n",
              "    <path d=\"M18.56 5.44l.94 2.06.94-2.06 2.06-.94-2.06-.94-.94-2.06-.94 2.06-2.06.94zm-11 1L8.5 8.5l.94-2.06 2.06-.94-2.06-.94L8.5 2.5l-.94 2.06-2.06.94zm10 10l.94 2.06.94-2.06 2.06-.94-2.06-.94-.94-2.06-.94 2.06-2.06.94z\"/><path d=\"M17.41 7.96l-1.37-1.37c-.4-.4-.92-.59-1.43-.59-.52 0-1.04.2-1.43.59L10.3 9.45l-7.72 7.72c-.78.78-.78 2.05 0 2.83L4 21.41c.39.39.9.59 1.41.59.51 0 1.02-.2 1.41-.59l7.78-7.78 2.81-2.81c.8-.78.8-2.07 0-2.86zM5.41 20L4 18.59l7.72-7.72 1.47 1.35L5.41 20z\"/>\n",
              "  </svg>\n",
              "      </button>\n",
              "      \n",
              "  <style>\n",
              "    .colab-df-container {\n",
              "      display:flex;\n",
              "      flex-wrap:wrap;\n",
              "      gap: 12px;\n",
              "    }\n",
              "\n",
              "    .colab-df-convert {\n",
              "      background-color: #E8F0FE;\n",
              "      border: none;\n",
              "      border-radius: 50%;\n",
              "      cursor: pointer;\n",
              "      display: none;\n",
              "      fill: #1967D2;\n",
              "      height: 32px;\n",
              "      padding: 0 0 0 0;\n",
              "      width: 32px;\n",
              "    }\n",
              "\n",
              "    .colab-df-convert:hover {\n",
              "      background-color: #E2EBFA;\n",
              "      box-shadow: 0px 1px 2px rgba(60, 64, 67, 0.3), 0px 1px 3px 1px rgba(60, 64, 67, 0.15);\n",
              "      fill: #174EA6;\n",
              "    }\n",
              "\n",
              "    [theme=dark] .colab-df-convert {\n",
              "      background-color: #3B4455;\n",
              "      fill: #D2E3FC;\n",
              "    }\n",
              "\n",
              "    [theme=dark] .colab-df-convert:hover {\n",
              "      background-color: #434B5C;\n",
              "      box-shadow: 0px 1px 3px 1px rgba(0, 0, 0, 0.15);\n",
              "      filter: drop-shadow(0px 1px 2px rgba(0, 0, 0, 0.3));\n",
              "      fill: #FFFFFF;\n",
              "    }\n",
              "  </style>\n",
              "\n",
              "      <script>\n",
              "        const buttonEl =\n",
              "          document.querySelector('#df-24917d87-45b0-48ec-8de1-ef6cbdf6a8ef button.colab-df-convert');\n",
              "        buttonEl.style.display =\n",
              "          google.colab.kernel.accessAllowed ? 'block' : 'none';\n",
              "\n",
              "        async function convertToInteractive(key) {\n",
              "          const element = document.querySelector('#df-24917d87-45b0-48ec-8de1-ef6cbdf6a8ef');\n",
              "          const dataTable =\n",
              "            await google.colab.kernel.invokeFunction('convertToInteractive',\n",
              "                                                     [key], {});\n",
              "          if (!dataTable) return;\n",
              "\n",
              "          const docLinkHtml = 'Like what you see? Visit the ' +\n",
              "            '<a target=\"_blank\" href=https://colab.research.google.com/notebooks/data_table.ipynb>data table notebook</a>'\n",
              "            + ' to learn more about interactive tables.';\n",
              "          element.innerHTML = '';\n",
              "          dataTable['output_type'] = 'display_data';\n",
              "          await google.colab.output.renderOutput(dataTable, element);\n",
              "          const docLink = document.createElement('div');\n",
              "          docLink.innerHTML = docLinkHtml;\n",
              "          element.appendChild(docLink);\n",
              "        }\n",
              "      </script>\n",
              "    </div>\n",
              "  </div>\n",
              "  "
            ]
          },
          "metadata": {},
          "execution_count": 152
        }
      ]
    },
    {
      "cell_type": "code",
      "source": [
        "# Sentiment Analysis Part\n",
        "\n",
        "from textblob import TextBlob\n",
        "def getSubjectivity(text):\n",
        "  return TextBlob(text).sentiment.subjectivity\n",
        "\n",
        "def getPolarity(text):\n",
        "  return TextBlob(text).sentiment.polarity\n",
        "\n",
        "df['Subjectivity'] = df['Comment'].apply(getSubjectivity)\n",
        "df['Polarity'] = df['Comment'].apply(getPolarity)\n",
        "\n",
        "df"
      ],
      "metadata": {
        "colab": {
          "base_uri": "https://localhost:8080/",
          "height": 424
        },
        "id": "kHbvIj9QQ_M0",
        "outputId": "74d2ceee-fcc0-427e-dc26-7ce82be79528"
      },
      "execution_count": 153,
      "outputs": [
        {
          "output_type": "execute_result",
          "data": {
            "text/plain": [
              "                   Name                Date  \\\n",
              "0             Soma Shil 2022-09-05 08:48:00   \n",
              "1       Babita Upadhyay 2022-09-05 08:52:00   \n",
              "2           Beena Gupta 2022-09-05 10:04:00   \n",
              "3          Gagan Singha 2022-09-05 10:16:00   \n",
              "4           Kiriv Sidhu 2022-09-05 10:47:00   \n",
              "..                  ...                 ...   \n",
              "225       TeQuell Tyler 2022-01-04 21:20:00   \n",
              "226    Kathleen Schwarz 2022-05-04 13:28:00   \n",
              "227       Samantha Jack 2022-06-04 16:59:00   \n",
              "228      Milez Fasnacht 2022-05-17 21:29:00   \n",
              "229  Justin Blankenship 2022-03-06 21:07:00   \n",
              "\n",
              "                                               Comment  Subjectivity  Polarity  \n",
              "0                                     Happy mother day      1.000000  0.800000  \n",
              "1                               l am waiting 15 Th may      0.000000  0.000000  \n",
              "2                                   Happy mother's day      1.000000  0.800000  \n",
              "3    Guys n gals in your best interests i have trav...      0.448504 -0.152350  \n",
              "4    \\r[PHOTO] scontentatl32.xx.fbcdn.netvt39.19976...      0.000000  0.000000  \n",
              "..                                                 ...           ...       ...  \n",
              "225  So certain people can't cash checks at your ? ...      0.785714  0.407143  \n",
              "226  Victoria Mathew is an expert in forex and cryp...      0.000000  0.000000  \n",
              "227  Helloi am Samantha and I am available for hook...      0.400000  0.400000  \n",
              "228  I've been a victim of fraud last March and you...      0.045833 -0.010417  \n",
              "229  Worst  ever. Refuses to refund $1450 that was ...      1.000000 -1.000000  \n",
              "\n",
              "[230 rows x 5 columns]"
            ],
            "text/html": [
              "\n",
              "  <div id=\"df-55c5bc9f-3a72-49fa-8bd8-37db287833ce\">\n",
              "    <div class=\"colab-df-container\">\n",
              "      <div>\n",
              "<style scoped>\n",
              "    .dataframe tbody tr th:only-of-type {\n",
              "        vertical-align: middle;\n",
              "    }\n",
              "\n",
              "    .dataframe tbody tr th {\n",
              "        vertical-align: top;\n",
              "    }\n",
              "\n",
              "    .dataframe thead th {\n",
              "        text-align: right;\n",
              "    }\n",
              "</style>\n",
              "<table border=\"1\" class=\"dataframe\">\n",
              "  <thead>\n",
              "    <tr style=\"text-align: right;\">\n",
              "      <th></th>\n",
              "      <th>Name</th>\n",
              "      <th>Date</th>\n",
              "      <th>Comment</th>\n",
              "      <th>Subjectivity</th>\n",
              "      <th>Polarity</th>\n",
              "    </tr>\n",
              "  </thead>\n",
              "  <tbody>\n",
              "    <tr>\n",
              "      <th>0</th>\n",
              "      <td>Soma Shil</td>\n",
              "      <td>2022-09-05 08:48:00</td>\n",
              "      <td>Happy mother day</td>\n",
              "      <td>1.000000</td>\n",
              "      <td>0.800000</td>\n",
              "    </tr>\n",
              "    <tr>\n",
              "      <th>1</th>\n",
              "      <td>Babita Upadhyay</td>\n",
              "      <td>2022-09-05 08:52:00</td>\n",
              "      <td>l am waiting 15 Th may</td>\n",
              "      <td>0.000000</td>\n",
              "      <td>0.000000</td>\n",
              "    </tr>\n",
              "    <tr>\n",
              "      <th>2</th>\n",
              "      <td>Beena Gupta</td>\n",
              "      <td>2022-09-05 10:04:00</td>\n",
              "      <td>Happy mother's day</td>\n",
              "      <td>1.000000</td>\n",
              "      <td>0.800000</td>\n",
              "    </tr>\n",
              "    <tr>\n",
              "      <th>3</th>\n",
              "      <td>Gagan Singha</td>\n",
              "      <td>2022-09-05 10:16:00</td>\n",
              "      <td>Guys n gals in your best interests i have trav...</td>\n",
              "      <td>0.448504</td>\n",
              "      <td>-0.152350</td>\n",
              "    </tr>\n",
              "    <tr>\n",
              "      <th>4</th>\n",
              "      <td>Kiriv Sidhu</td>\n",
              "      <td>2022-09-05 10:47:00</td>\n",
              "      <td>\\r[PHOTO] scontentatl32.xx.fbcdn.netvt39.19976...</td>\n",
              "      <td>0.000000</td>\n",
              "      <td>0.000000</td>\n",
              "    </tr>\n",
              "    <tr>\n",
              "      <th>...</th>\n",
              "      <td>...</td>\n",
              "      <td>...</td>\n",
              "      <td>...</td>\n",
              "      <td>...</td>\n",
              "      <td>...</td>\n",
              "    </tr>\n",
              "    <tr>\n",
              "      <th>225</th>\n",
              "      <td>TeQuell Tyler</td>\n",
              "      <td>2022-01-04 21:20:00</td>\n",
              "      <td>So certain people can't cash checks at your ? ...</td>\n",
              "      <td>0.785714</td>\n",
              "      <td>0.407143</td>\n",
              "    </tr>\n",
              "    <tr>\n",
              "      <th>226</th>\n",
              "      <td>Kathleen Schwarz</td>\n",
              "      <td>2022-05-04 13:28:00</td>\n",
              "      <td>Victoria Mathew is an expert in forex and cryp...</td>\n",
              "      <td>0.000000</td>\n",
              "      <td>0.000000</td>\n",
              "    </tr>\n",
              "    <tr>\n",
              "      <th>227</th>\n",
              "      <td>Samantha Jack</td>\n",
              "      <td>2022-06-04 16:59:00</td>\n",
              "      <td>Helloi am Samantha and I am available for hook...</td>\n",
              "      <td>0.400000</td>\n",
              "      <td>0.400000</td>\n",
              "    </tr>\n",
              "    <tr>\n",
              "      <th>228</th>\n",
              "      <td>Milez Fasnacht</td>\n",
              "      <td>2022-05-17 21:29:00</td>\n",
              "      <td>I've been a victim of fraud last March and you...</td>\n",
              "      <td>0.045833</td>\n",
              "      <td>-0.010417</td>\n",
              "    </tr>\n",
              "    <tr>\n",
              "      <th>229</th>\n",
              "      <td>Justin Blankenship</td>\n",
              "      <td>2022-03-06 21:07:00</td>\n",
              "      <td>Worst  ever. Refuses to refund $1450 that was ...</td>\n",
              "      <td>1.000000</td>\n",
              "      <td>-1.000000</td>\n",
              "    </tr>\n",
              "  </tbody>\n",
              "</table>\n",
              "<p>230 rows × 5 columns</p>\n",
              "</div>\n",
              "      <button class=\"colab-df-convert\" onclick=\"convertToInteractive('df-55c5bc9f-3a72-49fa-8bd8-37db287833ce')\"\n",
              "              title=\"Convert this dataframe to an interactive table.\"\n",
              "              style=\"display:none;\">\n",
              "        \n",
              "  <svg xmlns=\"http://www.w3.org/2000/svg\" height=\"24px\"viewBox=\"0 0 24 24\"\n",
              "       width=\"24px\">\n",
              "    <path d=\"M0 0h24v24H0V0z\" fill=\"none\"/>\n",
              "    <path d=\"M18.56 5.44l.94 2.06.94-2.06 2.06-.94-2.06-.94-.94-2.06-.94 2.06-2.06.94zm-11 1L8.5 8.5l.94-2.06 2.06-.94-2.06-.94L8.5 2.5l-.94 2.06-2.06.94zm10 10l.94 2.06.94-2.06 2.06-.94-2.06-.94-.94-2.06-.94 2.06-2.06.94z\"/><path d=\"M17.41 7.96l-1.37-1.37c-.4-.4-.92-.59-1.43-.59-.52 0-1.04.2-1.43.59L10.3 9.45l-7.72 7.72c-.78.78-.78 2.05 0 2.83L4 21.41c.39.39.9.59 1.41.59.51 0 1.02-.2 1.41-.59l7.78-7.78 2.81-2.81c.8-.78.8-2.07 0-2.86zM5.41 20L4 18.59l7.72-7.72 1.47 1.35L5.41 20z\"/>\n",
              "  </svg>\n",
              "      </button>\n",
              "      \n",
              "  <style>\n",
              "    .colab-df-container {\n",
              "      display:flex;\n",
              "      flex-wrap:wrap;\n",
              "      gap: 12px;\n",
              "    }\n",
              "\n",
              "    .colab-df-convert {\n",
              "      background-color: #E8F0FE;\n",
              "      border: none;\n",
              "      border-radius: 50%;\n",
              "      cursor: pointer;\n",
              "      display: none;\n",
              "      fill: #1967D2;\n",
              "      height: 32px;\n",
              "      padding: 0 0 0 0;\n",
              "      width: 32px;\n",
              "    }\n",
              "\n",
              "    .colab-df-convert:hover {\n",
              "      background-color: #E2EBFA;\n",
              "      box-shadow: 0px 1px 2px rgba(60, 64, 67, 0.3), 0px 1px 3px 1px rgba(60, 64, 67, 0.15);\n",
              "      fill: #174EA6;\n",
              "    }\n",
              "\n",
              "    [theme=dark] .colab-df-convert {\n",
              "      background-color: #3B4455;\n",
              "      fill: #D2E3FC;\n",
              "    }\n",
              "\n",
              "    [theme=dark] .colab-df-convert:hover {\n",
              "      background-color: #434B5C;\n",
              "      box-shadow: 0px 1px 3px 1px rgba(0, 0, 0, 0.15);\n",
              "      filter: drop-shadow(0px 1px 2px rgba(0, 0, 0, 0.3));\n",
              "      fill: #FFFFFF;\n",
              "    }\n",
              "  </style>\n",
              "\n",
              "      <script>\n",
              "        const buttonEl =\n",
              "          document.querySelector('#df-55c5bc9f-3a72-49fa-8bd8-37db287833ce button.colab-df-convert');\n",
              "        buttonEl.style.display =\n",
              "          google.colab.kernel.accessAllowed ? 'block' : 'none';\n",
              "\n",
              "        async function convertToInteractive(key) {\n",
              "          const element = document.querySelector('#df-55c5bc9f-3a72-49fa-8bd8-37db287833ce');\n",
              "          const dataTable =\n",
              "            await google.colab.kernel.invokeFunction('convertToInteractive',\n",
              "                                                     [key], {});\n",
              "          if (!dataTable) return;\n",
              "\n",
              "          const docLinkHtml = 'Like what you see? Visit the ' +\n",
              "            '<a target=\"_blank\" href=https://colab.research.google.com/notebooks/data_table.ipynb>data table notebook</a>'\n",
              "            + ' to learn more about interactive tables.';\n",
              "          element.innerHTML = '';\n",
              "          dataTable['output_type'] = 'display_data';\n",
              "          await google.colab.output.renderOutput(dataTable, element);\n",
              "          const docLink = document.createElement('div');\n",
              "          docLink.innerHTML = docLinkHtml;\n",
              "          element.appendChild(docLink);\n",
              "        }\n",
              "      </script>\n",
              "    </div>\n",
              "  </div>\n",
              "  "
            ]
          },
          "metadata": {},
          "execution_count": 153
        }
      ]
    },
    {
      "cell_type": "code",
      "source": [
        "# Words plotting using Word-cloud\n",
        "\n",
        "from wordcloud import WordCloud\n",
        "import matplotlib.pyplot as plt\n",
        "plt.style.use('fivethirtyeight')\n",
        "All_Tweets = ' '.join([ twts for twts in df['Comment']])\n",
        "wordCloud = WordCloud(width = 300,height = 300,random_state = 45,max_font_size = 120).generate(All_Tweets)\n",
        "plt.imshow(wordCloud, interpolation = \"bilinear\")\n",
        "plt.axis('off')\n",
        "plt.show()"
      ],
      "metadata": {
        "colab": {
          "base_uri": "https://localhost:8080/",
          "height": 264
        },
        "id": "toO8zhPURZ9B",
        "outputId": "708a9339-fbbe-4486-809b-5f6198202cfc"
      },
      "execution_count": 154,
      "outputs": [
        {
          "output_type": "display_data",
          "data": {
            "text/plain": [
              "<Figure size 432x288 with 1 Axes>"
            ],
            "image/png": "[encoded data removed]"
          },
          "metadata": {}
        }
      ]
    },
    {
      "cell_type": "code",
      "source": [
        "# Categorization of Comments\n",
        "\n",
        "def Comment_Analysis(score):\n",
        "  if score<0:\n",
        "    return 'Negative Comment'\n",
        "  elif score==0:\n",
        "    return 'Neutral Comment'\n",
        "  else:\n",
        "    return 'Positive Comment'\n",
        "\n",
        "df['Comment_type'] = df['Polarity'].apply(Comment_Analysis)\n",
        "df"
      ],
      "metadata": {
        "colab": {
          "base_uri": "https://localhost:8080/",
          "height": 424
        },
        "id": "S_ifGPwUSsyi",
        "outputId": "c5909de9-9faf-418f-ab80-268f129b4d5c"
      },
      "execution_count": 155,
      "outputs": [
        {
          "output_type": "execute_result",
          "data": {
            "text/plain": [
              "                   Name                Date  \\\n",
              "0             Soma Shil 2022-09-05 08:48:00   \n",
              "1       Babita Upadhyay 2022-09-05 08:52:00   \n",
              "2           Beena Gupta 2022-09-05 10:04:00   \n",
              "3          Gagan Singha 2022-09-05 10:16:00   \n",
              "4           Kiriv Sidhu 2022-09-05 10:47:00   \n",
              "..                  ...                 ...   \n",
              "225       TeQuell Tyler 2022-01-04 21:20:00   \n",
              "226    Kathleen Schwarz 2022-05-04 13:28:00   \n",
              "227       Samantha Jack 2022-06-04 16:59:00   \n",
              "228      Milez Fasnacht 2022-05-17 21:29:00   \n",
              "229  Justin Blankenship 2022-03-06 21:07:00   \n",
              "\n",
              "                                               Comment  Subjectivity  \\\n",
              "0                                     Happy mother day      1.000000   \n",
              "1                               l am waiting 15 Th may      0.000000   \n",
              "2                                   Happy mother's day      1.000000   \n",
              "3    Guys n gals in your best interests i have trav...      0.448504   \n",
              "4    \\r[PHOTO] scontentatl32.xx.fbcdn.netvt39.19976...      0.000000   \n",
              "..                                                 ...           ...   \n",
              "225  So certain people can't cash checks at your ? ...      0.785714   \n",
              "226  Victoria Mathew is an expert in forex and cryp...      0.000000   \n",
              "227  Helloi am Samantha and I am available for hook...      0.400000   \n",
              "228  I've been a victim of fraud last March and you...      0.045833   \n",
              "229  Worst  ever. Refuses to refund $1450 that was ...      1.000000   \n",
              "\n",
              "     Polarity      Comment_type  \n",
              "0    0.800000  Positive Comment  \n",
              "1    0.000000   Neutral Comment  \n",
              "2    0.800000  Positive Comment  \n",
              "3   -0.152350  Negative Comment  \n",
              "4    0.000000   Neutral Comment  \n",
              "..        ...               ...  \n",
              "225  0.407143  Positive Comment  \n",
              "226  0.000000   Neutral Comment  \n",
              "227  0.400000  Positive Comment  \n",
              "228 -0.010417  Negative Comment  \n",
              "229 -1.000000  Negative Comment  \n",
              "\n",
              "[230 rows x 6 columns]"
            ],
            "text/html": [
              "\n",
              "  <div id=\"df-e642a37d-0e38-444c-a96e-b7a1613a6765\">\n",
              "    <div class=\"colab-df-container\">\n",
              "      <div>\n",
              "<style scoped>\n",
              "    .dataframe tbody tr th:only-of-type {\n",
              "        vertical-align: middle;\n",
              "    }\n",
              "\n",
              "    .dataframe tbody tr th {\n",
              "        vertical-align: top;\n",
              "    }\n",
              "\n",
              "    .dataframe thead th {\n",
              "        text-align: right;\n",
              "    }\n",
              "</style>\n",
              "<table border=\"1\" class=\"dataframe\">\n",
              "  <thead>\n",
              "    <tr style=\"text-align: right;\">\n",
              "      <th></th>\n",
              "      <th>Name</th>\n",
              "      <th>Date</th>\n",
              "      <th>Comment</th>\n",
              "      <th>Subjectivity</th>\n",
              "      <th>Polarity</th>\n",
              "      <th>Comment_type</th>\n",
              "    </tr>\n",
              "  </thead>\n",
              "  <tbody>\n",
              "    <tr>\n",
              "      <th>0</th>\n",
              "      <td>Soma Shil</td>\n",
              "      <td>2022-09-05 08:48:00</td>\n",
              "      <td>Happy mother day</td>\n",
              "      <td>1.000000</td>\n",
              "      <td>0.800000</td>\n",
              "      <td>Positive Comment</td>\n",
              "    </tr>\n",
              "    <tr>\n",
              "      <th>1</th>\n",
              "      <td>Babita Upadhyay</td>\n",
              "      <td>2022-09-05 08:52:00</td>\n",
              "      <td>l am waiting 15 Th may</td>\n",
              "      <td>0.000000</td>\n",
              "      <td>0.000000</td>\n",
              "      <td>Neutral Comment</td>\n",
              "    </tr>\n",
              "    <tr>\n",
              "      <th>2</th>\n",
              "      <td>Beena Gupta</td>\n",
              "      <td>2022-09-05 10:04:00</td>\n",
              "      <td>Happy mother's day</td>\n",
              "      <td>1.000000</td>\n",
              "      <td>0.800000</td>\n",
              "      <td>Positive Comment</td>\n",
              "    </tr>\n",
              "    <tr>\n",
              "      <th>3</th>\n",
              "      <td>Gagan Singha</td>\n",
              "      <td>2022-09-05 10:16:00</td>\n",
              "      <td>Guys n gals in your best interests i have trav...</td>\n",
              "      <td>0.448504</td>\n",
              "      <td>-0.152350</td>\n",
              "      <td>Negative Comment</td>\n",
              "    </tr>\n",
              "    <tr>\n",
              "      <th>4</th>\n",
              "      <td>Kiriv Sidhu</td>\n",
              "      <td>2022-09-05 10:47:00</td>\n",
              "      <td>\\r[PHOTO] scontentatl32.xx.fbcdn.netvt39.19976...</td>\n",
              "      <td>0.000000</td>\n",
              "      <td>0.000000</td>\n",
              "      <td>Neutral Comment</td>\n",
              "    </tr>\n",
              "    <tr>\n",
              "      <th>...</th>\n",
              "      <td>...</td>\n",
              "      <td>...</td>\n",
              "      <td>...</td>\n",
              "      <td>...</td>\n",
              "      <td>...</td>\n",
              "      <td>...</td>\n",
              "    </tr>\n",
              "    <tr>\n",
              "      <th>225</th>\n",
              "      <td>TeQuell Tyler</td>\n",
              "      <td>2022-01-04 21:20:00</td>\n",
              "      <td>So certain people can't cash checks at your ? ...</td>\n",
              "      <td>0.785714</td>\n",
              "      <td>0.407143</td>\n",
              "      <td>Positive Comment</td>\n",
              "    </tr>\n",
              "    <tr>\n",
              "      <th>226</th>\n",
              "      <td>Kathleen Schwarz</td>\n",
              "      <td>2022-05-04 13:28:00</td>\n",
              "      <td>Victoria Mathew is an expert in forex and cryp...</td>\n",
              "      <td>0.000000</td>\n",
              "      <td>0.000000</td>\n",
              "      <td>Neutral Comment</td>\n",
              "    </tr>\n",
              "    <tr>\n",
              "      <th>227</th>\n",
              "      <td>Samantha Jack</td>\n",
              "      <td>2022-06-04 16:59:00</td>\n",
              "      <td>Helloi am Samantha and I am available for hook...</td>\n",
              "      <td>0.400000</td>\n",
              "      <td>0.400000</td>\n",
              "      <td>Positive Comment</td>\n",
              "    </tr>\n",
              "    <tr>\n",
              "      <th>228</th>\n",
              "      <td>Milez Fasnacht</td>\n",
              "      <td>2022-05-17 21:29:00</td>\n",
              "      <td>I've been a victim of fraud last March and you...</td>\n",
              "      <td>0.045833</td>\n",
              "      <td>-0.010417</td>\n",
              "      <td>Negative Comment</td>\n",
              "    </tr>\n",
              "    <tr>\n",
              "      <th>229</th>\n",
              "      <td>Justin Blankenship</td>\n",
              "      <td>2022-03-06 21:07:00</td>\n",
              "      <td>Worst  ever. Refuses to refund $1450 that was ...</td>\n",
              "      <td>1.000000</td>\n",
              "      <td>-1.000000</td>\n",
              "      <td>Negative Comment</td>\n",
              "    </tr>\n",
              "  </tbody>\n",
              "</table>\n",
              "<p>230 rows × 6 columns</p>\n",
              "</div>\n",
              "      <button class=\"colab-df-convert\" onclick=\"convertToInteractive('df-e642a37d-0e38-444c-a96e-b7a1613a6765')\"\n",
              "              title=\"Convert this dataframe to an interactive table.\"\n",
              "              style=\"display:none;\">\n",
              "        \n",
              "  <svg xmlns=\"http://www.w3.org/2000/svg\" height=\"24px\"viewBox=\"0 0 24 24\"\n",
              "       width=\"24px\">\n",
              "    <path d=\"M0 0h24v24H0V0z\" fill=\"none\"/>\n",
              "    <path d=\"M18.56 5.44l.94 2.06.94-2.06 2.06-.94-2.06-.94-.94-2.06-.94 2.06-2.06.94zm-11 1L8.5 8.5l.94-2.06 2.06-.94-2.06-.94L8.5 2.5l-.94 2.06-2.06.94zm10 10l.94 2.06.94-2.06 2.06-.94-2.06-.94-.94-2.06-.94 2.06-2.06.94z\"/><path d=\"M17.41 7.96l-1.37-1.37c-.4-.4-.92-.59-1.43-.59-.52 0-1.04.2-1.43.59L10.3 9.45l-7.72 7.72c-.78.78-.78 2.05 0 2.83L4 21.41c.39.39.9.59 1.41.59.51 0 1.02-.2 1.41-.59l7.78-7.78 2.81-2.81c.8-.78.8-2.07 0-2.86zM5.41 20L4 18.59l7.72-7.72 1.47 1.35L5.41 20z\"/>\n",
              "  </svg>\n",
              "      </button>\n",
              "      \n",
              "  <style>\n",
              "    .colab-df-container {\n",
              "      display:flex;\n",
              "      flex-wrap:wrap;\n",
              "      gap: 12px;\n",
              "    }\n",
              "\n",
              "    .colab-df-convert {\n",
              "      background-color: #E8F0FE;\n",
              "      border: none;\n",
              "      border-radius: 50%;\n",
              "      cursor: pointer;\n",
              "      display: none;\n",
              "      fill: #1967D2;\n",
              "      height: 32px;\n",
              "      padding: 0 0 0 0;\n",
              "      width: 32px;\n",
              "    }\n",
              "\n",
              "    .colab-df-convert:hover {\n",
              "      background-color: #E2EBFA;\n",
              "      box-shadow: 0px 1px 2px rgba(60, 64, 67, 0.3), 0px 1px 3px 1px rgba(60, 64, 67, 0.15);\n",
              "      fill: #174EA6;\n",
              "    }\n",
              "\n",
              "    [theme=dark] .colab-df-convert {\n",
              "      background-color: #3B4455;\n",
              "      fill: #D2E3FC;\n",
              "    }\n",
              "\n",
              "    [theme=dark] .colab-df-convert:hover {\n",
              "      background-color: #434B5C;\n",
              "      box-shadow: 0px 1px 3px 1px rgba(0, 0, 0, 0.15);\n",
              "      filter: drop-shadow(0px 1px 2px rgba(0, 0, 0, 0.3));\n",
              "      fill: #FFFFFF;\n",
              "    }\n",
              "  </style>\n",
              "\n",
              "      <script>\n",
              "        const buttonEl =\n",
              "          document.querySelector('#df-e642a37d-0e38-444c-a96e-b7a1613a6765 button.colab-df-convert');\n",
              "        buttonEl.style.display =\n",
              "          google.colab.kernel.accessAllowed ? 'block' : 'none';\n",
              "\n",
              "        async function convertToInteractive(key) {\n",
              "          const element = document.querySelector('#df-e642a37d-0e38-444c-a96e-b7a1613a6765');\n",
              "          const dataTable =\n",
              "            await google.colab.kernel.invokeFunction('convertToInteractive',\n",
              "                                                     [key], {});\n",
              "          if (!dataTable) return;\n",
              "\n",
              "          const docLinkHtml = 'Like what you see? Visit the ' +\n",
              "            '<a target=\"_blank\" href=https://colab.research.google.com/notebooks/data_table.ipynb>data table notebook</a>'\n",
              "            + ' to learn more about interactive tables.';\n",
              "          element.innerHTML = '';\n",
              "          dataTable['output_type'] = 'display_data';\n",
              "          await google.colab.output.renderOutput(dataTable, element);\n",
              "          const docLink = document.createElement('div');\n",
              "          docLink.innerHTML = docLinkHtml;\n",
              "          element.appendChild(docLink);\n",
              "        }\n",
              "      </script>\n",
              "    </div>\n",
              "  </div>\n",
              "  "
            ]
          },
          "metadata": {},
          "execution_count": 155
        }
      ]
    },
    {
      "cell_type": "code",
      "source": [
        "# Count of Positive Comments\n",
        "\n",
        "i = 1\n",
        "count = 0\n",
        "df_sorted = df.sort_values(by = ['Polarity'])\n",
        "for j in range(0,df_sorted.shape[0]):\n",
        "  if(df_sorted['Comment_type'][j] == 'Positive Comment'):\n",
        "    count += 1\n",
        "    i = i+1\n",
        "print(count)"
      ],
      "metadata": {
        "colab": {
          "base_uri": "https://localhost:8080/"
        },
        "id": "OrqLiJstUFpu",
        "outputId": "3c0a3bf4-7052-47ab-fd91-dfe8d45e716a"
      },
      "execution_count": 156,
      "outputs": [
        {
          "output_type": "stream",
          "name": "stdout",
          "text": [
            "86\n"
          ]
        }
      ]
    },
    {
      "cell_type": "code",
      "source": [
        "# Visualization of Positive Comments\n",
        "\n",
        "i = 1\n",
        "df_sorted = df.sort_values(by = ['Polarity'])\n",
        "for j in range(0,df_sorted.shape[0]):\n",
        "  if(df_sorted['Comment_type'][j] == 'Positive Comment'):\n",
        "    print(str(i) + ')' + df_sorted['Comment'][i])\n",
        "    print()\n",
        "    i = i+1"
      ],
      "metadata": {
        "colab": {
          "base_uri": "https://localhost:8080/"
        },
        "id": "pFnHneMtUQ_w",
        "outputId": "7663b79c-59da-42ff-86c2-af18aa1290d5"
      },
      "execution_count": 157,
      "outputs": [
        {
          "output_type": "stream",
          "name": "stdout",
          "text": [
            "1)l am waiting 15 Th may\n",
            "\n",
            "2)Happy mother's day\n",
            "\n",
            "3)Guys n gals in your best interests i have traveled the world n have had  accounts in many different countries n without a shadow of doubt i can conclude that YES BANK is the worst  on this planet and it will SHUT DOWN soon againsave your money close this 3rd class  account n open account in some other sits been months that i have been complaining to their customer service n employees about my money that they have locked n blocked for no good reason and they not releasing or resolving and are so incompetent that their license shud be canceled STAY AWAY or else soon you all will find yourself in my position of unnecessary harassment n grief by their teamam gona put a complaint to the ceo of yes and Rbi too after this.....\n",
            "\n",
            "4)\r[PHOTO] scontentatl32.xx.fbcdn.netvt39.19976106823040.png?=1=17&=ac3552&=38k0cOfatqkAX8tb38Z&=scontentatl32.xx=0095LbJ6mibFMRm6EmaxhDNpqjMWeFIzBCQ=62956705\n",
            "\n",
            "5)Thoda sa pyar thoda sa time aur kuchh nahin\n",
            "\n",
            "6)\r[PHOTO] externalatl32.xx.fbcdn.netsafe.php?w=396=251=%3A%2F%2Fmedia1.tenor.co%2Fimages%2F862099234e8e40ea6850da57efd760bc%2Ftenor.gif%3Fitemid%3D22833921=emg0=tenor.co&=702ad&=505865&=1=36&=AQFr2pWT8kUOe26n\n",
            "\n",
            "7)Thodi si ijjat chahie\n",
            "\n",
            "8)\r[PHOTO] externalatl32.xx.fbcdn.netsafe.php?w=396=212=%3A%2F%2Fmedia1.tenor.co%2Fimages%2F993c6af8798e15db57200e3ae53ceff6%2Ftenor.gif%3Fitemid%3D17367196=emg0=tenor.co&=702ad&=505865&=1=36&=AQFaD2WbvLxJ\n",
            "\n",
            "9)Happy mother's day????????\n",
            "\n",
            "10)Happy sweet mother's day to meet you my dear friend you\n",
            "\n",
            "11)??????\n",
            "\n",
            "12)\r[PHOTO] scontentatl32.xx.fbcdn.netvt15.525610279884959.jpg?stp=dstjpg&=103=17&=ad6a45&=xtMqsO37MywAXWZ6Vg&=scontentatl32.xx=00=62948621\n",
            "\n",
            "13)Sebmandir dono\n",
            "\n",
            "14)Kam se kam ek din ki puri chhutti\n",
            "\n",
            "15)Online Credit card ?? from his mobile ?? So click on this link leads.sathi.com?h=WGZIeDgxWFIxdFNjR1JnY1lnRVNaUT09\r[PHOTO] scontentatl32.xx.fbcdn.netvt39.308086280647952.jpg?stp=dstjpg&=100=17&=dbeb18&=0JwQd3M6sfQAX9TgoD6&=scontentatl32.xx=00M1gZaHaDyxrKPlXYstC21xDg3pmG8g=62948AAF\n",
            "\n",
            "16)fb.watchcYopHx9FPq\n",
            "\n",
            "17)Dear SirMadamThe customer scanned the QR code and sent me Rs 50000 . But the credit in my  account is 41 thousand 744 rupees 36 paise I would be happy to know why my money was cut.The customer paid me 25000 rupees twice.Please tell whats the story of them big puppys .....Share details with me as soon as possible.My Shope Name is Mahir Auto Plaza\n",
            "\n",
            "18)Hello yes  had any staff??? Are working for customer???? Are you fake sales to develop your ??? Are you reply to me is it possible to before i am going to cemetery\n",
            "\n",
            "19)Boycott yes \n",
            "\n",
            "20)application.werize.comhome?partnerId=c3222b7348c34617b55e94dc532e6aa0Aply for a personal loan only Salaried person salry require 12 k above ??Note  *cibil* *issue* *FILE* *DIRECT* *WHATSAPP* *ME* *I* *HAVE* *ALL* *FINANCE* *COMPANY* 7678238800NO ADVANCE CHARGES *Get* *personal* *loans* *for* *all* *your* *requirements* *with* *WeRize*Loan starting from Rs. 50000 to Rs. 500000? No gold no collateral!? Flexible repayment options? Interest rates starting from 1%     per month? No need to visit any branchOnly for Salaried professionals with minimum monthly salary of Rs. 12000www.facebook.comgroups5235584143173380?ref=shareOr WhatsApp me on this no. For more details917678238800\r[PHOTO] l.facebook.coml.php?u=%3A%2F%2Fapplication.werize.com%2Fhome%3FpartnerId%3Dc3222b7348c34617b55e94dc532e6aa0=AT0SjvUqJZWTx6EY4N38I9bXWLxxSsNDbuZQVTL4Ra6YvZqn8QpqJh5MQ5t5cShuCCzBgN73MsGy7GP2ZdmQetfRrAIOkZMxmdVbufoyHZNK3zYKaH7fF66lby=1\n",
            "\n",
            "21)\r[PHOTO] scontentatl32.xx.fbcdn.netvt39.308086283131121.jpg?stp=dstjpg&=107=17&=dbeb18&=RfLhKXgjz6MAXPsPfO&=scontentatl32.xx=00evsUTzz52jfDA=62950DBB\n",
            "\n",
            "22)Yes  customer care number 9832529421 <> 9832529421... All problems solved.....any questions please contact us......all problems with calling..... Get all help query regarding issue.....24 hours available......\n",
            "\n",
            "23)In our new  GPS report the eighth in our Disruptive Innovations series we once again look at some of the leadingedge concepts across sectors and identify new products which could ultimately disrupt their marketplace. Read more on.3p1wSLQ\n",
            "\n",
            "24) is proud to announce that JoAnne Kelly was named a finalist for the ?Ally Changemaker Award? at the 2021 Out & Equal Summit. JoAnne is truly an example of what is means to Live Our Values at . Congratulations for your outstanding commitment to the LGBTQ community! LifeAt OESummit\n",
            "\n",
            "25)This month and every day  honors our veteran and active military colleagues for their service leadership and contributions. Working with eCornell FourBlock and NPower our  Salutes employee network recruits talented individuals and provides a platform for members to leverage the exceptional skills they have gained in the military to make an impact at work and in their communities. Learn how  is enabling progress www.group.comzencommunitysalutes?utm=salutesurl\n",
            "\n",
            "26)In our new  GPS report ?Global Carbon Markets ? Solving the Emissions Crisis Before Time Runs Out? we examine mechanisms that may help accelerate global decarbonization efforts. Read more on.2ZEOgvn COP26\n",
            "\n",
            "27)Today  and the  Foundation announced that the Action for Racial Equity initiative has invested more than $1 billion in strategic initiatives to help close the racial wealth gap and increase economic mobility in the United States in year one of a threeyear commitment. Learn more on.3ws1UOQ\n",
            "\n",
            "28)Our new  GPS report analyzes a range of different mechanisms that can be used globally to reduce greenhouse gas emissions over the next decade. Learn more on.3c3vYXq\n",
            "\n",
            "29)This VeteransDay we are looking back at the New York Mets season when Jeffrey Casio was honored as Veteran of the Game. Jeffrey served in the U.S. Army Reserve for nine years and is now part of our  Salutes affinity which recognizes all of our colleagues in uniform for their service. We honor the sacrifices all veterans have made for our freedom. Learn more about  Salutes on.3C8E2AO\n",
            "\n",
            "30)Why is enterprise learning & development the next frontier in global education? Learn more in our latest  GPS report on.3HgIt0b\n",
            "\n",
            "31)Through our global Pathways2Progress initiative we are empowering young people to create innovative solutions that address some of the biggest social challenges. In our new video series ?Creating the Future We Want' we feature young social entrepreneurs who are advancing the United Nations? SDGs. Learn more about the work that?s driving the largest youth social entrepreneurship movement in Asia Pacific!\n",
            "\n",
            "32)In our latest  GPS report we explore the role that philanthropy plays in the global economy and what the future may bring. Read more on.3kZ0RkT\n",
            "\n",
            "33)Vulcan Augmetics is a startup in Vietnam that is transforming the lives of amputees by creating affordable functional and modular prosthetic products using 3Dprinting. It is part of Youth CoLab an initiative cocreated by the  Foundation and UNDP in Asia and the Pacific and the largest youth social entrepreneurship movement in Asia Pacific. Watch to learn more. Pathways2Progress\n",
            "\n",
            "34)No kid should have to worry about their next meal. This GivingTuesday join  in supporting No Kid Hungry to help end childhood hunger in the U.S.  nokidhungry.org\n",
            "\n",
            "35)AI4GOV is a startup based in the Philippines that focuses on improving access to information and local services through artificial intelligence (AI). It is part of Youth CoLab an initiative cocreated by the  Foundation and UNDP in Asia and the Pacific and the largest youth social entrepreneurship movement in the region. Watch to learn more about AI4GOV and how they are creating solutions that advance the United Nations? SDGs. Pathways2Progress\n",
            "\n",
            "36)Biotech Bangladesh is a social startup that is taking climate action by collecting waste cooking oil from restaurants and repurposing it into biodiesel. It is part of Youth CoLab an initiative cocreated by the  Foundation and UNDP in Asia and the Pacific and the largest youth social entrepreneurship movement in Asia Pacific. Watch to learn more. Pathways2Progress\n",
            "\n",
            "37)What if giving back could be as simple as riding a bike? This season we teamed up with No Kid Hungry to turn your  Bike rides into up to 10 meals for kids facing hunger. Join us nokidhungry.org\n",
            "\n",
            "38)A youthled social enterprise that is advancing the UN SDG of good health and wellbeing EYELIKE Platform is providing access to more effective and efficient management of eye health in resourcelimited environments. It is part of Youth CoLab an initiative cocreated by the  Foundation and UNDP in Asia and the Pacific and the largest youth social entrepreneurship movement in Asia Pacific. Watch to learn more. Pathways2Progress\n",
            "\n",
            "39)Our latest  GPS report details the challenges that have emerged for supply chains as a result of the COVID19 pandemic and highlights the disruptions to the global economy and what the road to recovery may look like. Read more on.3yU3YjN\n",
            "\n",
            "40)nan\n",
            "\n",
            "41)In honor of Martin Luther King Jr. Day Harold Butler ?s Head of Diverse Financial Institutions Group sat down with Hill Harper humanitarian awardwinning actor bestselling author and entrepreneur to discuss the challenges that communities of color face to achieve emotional physical and financial wellness due to systemic inequity. Harper quotes Dr. King during their conversation.\n",
            "\n",
            "42)General CQ Brown the first AfricanAmerican appointed Chief of Staff of the Air Force sat down for a fireside chat with our own Veteran colleague Scott Stokes to discuss DE in the workplace as well as recruting and retention of Veteran talent.\n",
            "\n",
            "43)At  we have demonstrated our ongoing commitment to help close the Racial Wealth Gap with transparent actions and bold commitments. These include investing in our Action for Racial Equity ? and our dedication to pay transparency equity & representation goals. All to help drive change for our colleagues and the communities we serve. Learn more on.3uvQBGk\n",
            "\n",
            "44)Our latest  GPS report in collaboration with OPHI  Oxford Poverty and Human Development Initiative and Sophia Oxford examines how taking a multidimensional approach to poverty enables a better understanding of its depth and nature and helps formulate targeted programs to tackle it  on.3sqCL5s\n",
            "\n",
            "45)Today we?re proud to announce our Team winter Para athlete roster! Together we?re continuing our work to help change perceptions of people with disabilities and are encouraging you to join the conversation. Share your stareworthy story with StareAtGreatness. Learn more on.3LItQVU\n",
            "\n",
            "46)Join us on today at 1pm EST for an Instagram Live event with Cindy Ouellet and Trevon Jenifer. Moderated by our Chief DE Officer & Global Head of Talent Erika Irish Brown they?ll discuss our StareAtGreatness campaign the intersection of disability race gender and LGBTQ and how we can all become more active allies. on.3tun39X\n",
            "\n",
            "47)Fifteenpercent of the world?s population has a visible or invisible disability. All have their own stareworthy stories to tell. That?s why we?re continuing our StareAtGreatness campaign to flip the script and help change perceptions of people with disabilities. Our Team winter Para athletes have begun sharing their stories talents and accomplishments. Now it?s your turn. What makes you stareworthy? .comparasport\n",
            "\n",
            "48)?The more visibility and the more representation the more we continue this conversation people will stare but ? to celebrate the incredible contributions that people with disabilities make in the world.? Proud to share this awesome article about our Team athlete Tyler McGregor where he discusses what the StareAtGreatness campaign means to him and how we can all join in on the conversation to positively change the perception of people with disabilities. bit.ly3vpd1JV\n",
            "\n",
            "49)?For me there?s a sense of pride being able to narrate what a disability is?I?m the only one who sets limitations.? Team para athlete Brittani Coury shares her journey and how you can help change perceptions of people with disabilities. StareAtGreatness bit.ly35icij0\n",
            "\n",
            "50)We believe the Metaverse may be the next generation of the internet ? combining the physical and digital world in a persistent and immersive manner ? and not purely a Virtual Reality world. Read more in our latest  GPS report on.3NQwGcy\n",
            "\n",
            "51)A century ago a place known as Black Wall Street earned the reputation as a shining example of Black excellence from Blackowned businesses to prestigious schools to land ownership. Until one day it was tragically and shamefully destroyed. But the spirit of Black Wall Street wasn?t lost to history. Because today it lives on in Black entrepreneurs across the country as new Black Wall Streets rise. And  is committed to doing its part in their ongoing development. Learn more about our efforts at on.3LSpDhy ForTheLoveOfProgress\n",
            "\n",
            "52)nan\n",
            "\n",
            "53)Baseball is back and so is the  Community Home Runs program! That means for every New York Mets home run hit at  Field  will donate $2000 to No Kid Hungry. Since the 2016 season  has donated more than $1 million to help in the fight against childhood hunger. To learn more about the program visit mets.com.\n",
            "\n",
            "54)Today  released its 2021 Environmental Social and Governance Report detailing the progress we've made on our longstanding ESG commitments as well as efforts to address more immediate global challenges. Learn more on.3vdm2VT\n",
            "\n",
            "55)Today?s generation is at the forefront of a new space era ? one that will be farreaching inclusive and potentially more disruptive. We have finally come to a stage where the dreams around space from childhood are turning into reality. Read more in our latest  GPS report on.3wsMOJm\n",
            "\n",
            "56)At  we stand in unity with the AAPI community and support the career development of our AAPI colleagues. That?s why we invest in mentoring groups leadership programs and more to empower their career growth. Learn more at on.37PF3ox APAHM\n",
            "\n",
            "57)Today we?re excited to announce we are the founding partner of PARA SPORT! Through this new grassrootstohigh performance program  is dedicated to changing the narrative around people with disabilities and helping grow Para sports through 2024. Click here to learn more on.3wtK4MW\n",
            "\n",
            "58)\"You don?t have to be an athlete to start you just have to start.? The PARA SPORT program is all about fostering the growth of sports for people with disabilities from grassrootstohigh performance. Take it from Team athlete Brad Snyder. ParaSport ItStartswithSport on.3yOWa4J\n",
            "\n",
            "59)?Don?t be afraid. If you want to practice a sport do it try it.? One of the core pillars of PARA SPORT is helping people with disabilities engage more actively in sport by raising awareness of opportunities and the benefits of the program for them and their families. Hear more about the program from Team athlete Gustavo Sanchez on.3wM2lnu\n",
            "\n",
            "60)nan\n",
            "\n",
            "61)?The biggest impact that sport can have for people with disabilities is learning to reclaim and learn your physical self.? Hear more from Team athlete Madison de Rozario on how PARA SPORT will help Para athletes through the development of more sports programs  on.3zrF9hA\n",
            "\n",
            "62)Happy mother day\n",
            "\n",
            "63)l am waiting 15 Th may\n",
            "\n",
            "64)Happy mother's day\n",
            "\n",
            "65)Guys n gals in your best interests i have traveled the world n have had  accounts in many different countries n without a shadow of doubt i can conclude that YES BANK is the worst  on this planet and it will SHUT DOWN soon againsave your money close this 3rd class  account n open account in some other sits been months that i have been complaining to their customer service n employees about my money that they have locked n blocked for no good reason and they not releasing or resolving and are so incompetent that their license shud be canceled STAY AWAY or else soon you all will find yourself in my position of unnecessary harassment n grief by their teamam gona put a complaint to the ceo of yes and Rbi too after this.....\n",
            "\n",
            "66)\r[PHOTO] scontentatl32.xx.fbcdn.netvt39.19976106823040.png?=1=17&=ac3552&=38k0cOfatqkAX8tb38Z&=scontentatl32.xx=0095LbJ6mibFMRm6EmaxhDNpqjMWeFIzBCQ=62956705\n",
            "\n",
            "67)Thoda sa pyar thoda sa time aur kuchh nahin\n",
            "\n",
            "68)\r[PHOTO] externalatl32.xx.fbcdn.netsafe.php?w=396=251=%3A%2F%2Fmedia1.tenor.co%2Fimages%2F862099234e8e40ea6850da57efd760bc%2Ftenor.gif%3Fitemid%3D22833921=emg0=tenor.co&=702ad&=505865&=1=36&=AQFr2pWT8kUOe26n\n",
            "\n",
            "69)Thodi si ijjat chahie\n",
            "\n",
            "70)\r[PHOTO] externalatl32.xx.fbcdn.netsafe.php?w=396=212=%3A%2F%2Fmedia1.tenor.co%2Fimages%2F993c6af8798e15db57200e3ae53ceff6%2Ftenor.gif%3Fitemid%3D17367196=emg0=tenor.co&=702ad&=505865&=1=36&=AQFaD2WbvLxJ\n",
            "\n",
            "71)Happy mother's day????????\n",
            "\n",
            "72)Happy sweet mother's day to meet you my dear friend you\n",
            "\n",
            "73)??????\n",
            "\n",
            "74)\r[PHOTO] scontentatl32.xx.fbcdn.netvt15.525610279884959.jpg?stp=dstjpg&=103=17&=ad6a45&=xtMqsO37MywAXWZ6Vg&=scontentatl32.xx=00=62948621\n",
            "\n",
            "75)Sebmandir dono\n",
            "\n",
            "76)Kam se kam ek din ki puri chhutti\n",
            "\n",
            "77)Online Credit card ?? from his mobile ?? So click on this link leads.sathi.com?h=WGZIeDgxWFIxdFNjR1JnY1lnRVNaUT09\r[PHOTO] scontentatl32.xx.fbcdn.netvt39.308086280647952.jpg?stp=dstjpg&=100=17&=dbeb18&=0JwQd3M6sfQAX9TgoD6&=scontentatl32.xx=00M1gZaHaDyxrKPlXYstC21xDg3pmG8g=62948AAF\n",
            "\n",
            "78)fb.watchcYopHx9FPq\n",
            "\n",
            "79)Dear SirMadamThe customer scanned the QR code and sent me Rs 50000 . But the credit in my  account is 41 thousand 744 rupees 36 paise I would be happy to know why my money was cut.The customer paid me 25000 rupees twice.Please tell whats the story of them big puppys .....Share details with me as soon as possible.My Shope Name is Mahir Auto Plaza\n",
            "\n",
            "80)Hello yes  had any staff??? Are working for customer???? Are you fake sales to develop your ??? Are you reply to me is it possible to before i am going to cemetery\n",
            "\n",
            "81)Boycott yes \n",
            "\n",
            "82)application.werize.comhome?partnerId=c3222b7348c34617b55e94dc532e6aa0Aply for a personal loan only Salaried person salry require 12 k above ??Note  *cibil* *issue* *FILE* *DIRECT* *WHATSAPP* *ME* *I* *HAVE* *ALL* *FINANCE* *COMPANY* 7678238800NO ADVANCE CHARGES *Get* *personal* *loans* *for* *all* *your* *requirements* *with* *WeRize*Loan starting from Rs. 50000 to Rs. 500000? No gold no collateral!? Flexible repayment options? Interest rates starting from 1%     per month? No need to visit any branchOnly for Salaried professionals with minimum monthly salary of Rs. 12000www.facebook.comgroups5235584143173380?ref=shareOr WhatsApp me on this no. For more details917678238800\r[PHOTO] l.facebook.coml.php?u=%3A%2F%2Fapplication.werize.com%2Fhome%3FpartnerId%3Dc3222b7348c34617b55e94dc532e6aa0=AT0SjvUqJZWTx6EY4N38I9bXWLxxSsNDbuZQVTL4Ra6YvZqn8QpqJh5MQ5t5cShuCCzBgN73MsGy7GP2ZdmQetfRrAIOkZMxmdVbufoyHZNK3zYKaH7fF66lby=1\n",
            "\n",
            "83)\r[PHOTO] scontentatl32.xx.fbcdn.netvt39.308086283131121.jpg?stp=dstjpg&=107=17&=dbeb18&=RfLhKXgjz6MAXPsPfO&=scontentatl32.xx=00evsUTzz52jfDA=62950DBB\n",
            "\n",
            "84)Yes  customer care number 9832529421 <> 9832529421... All problems solved.....any questions please contact us......all problems with calling..... Get all help query regarding issue.....24 hours available......\n",
            "\n",
            "85)??\n",
            "\n",
            "86)??\n",
            "\n"
          ]
        }
      ]
    },
    {
      "cell_type": "code",
      "source": [
        "# Count of Negative Comments\n",
        "\n",
        "i = 1\n",
        "count = 0\n",
        "df_sorted = df.sort_values(by = ['Polarity'], ascending  = 'False')\n",
        "for j in range(0,df_sorted.shape[0]):\n",
        "  if(df_sorted['Comment_type'][j] == 'Negative Comment'):\n",
        "    count += 1\n",
        "    i = i+1\n",
        "print(count)"
      ],
      "metadata": {
        "colab": {
          "base_uri": "https://localhost:8080/"
        },
        "id": "vO-SRuGdUbe3",
        "outputId": "c3bca230-a3a2-49ce-fc04-8b047e6a1087"
      },
      "execution_count": 158,
      "outputs": [
        {
          "output_type": "stream",
          "name": "stdout",
          "text": [
            "51\n"
          ]
        }
      ]
    },
    {
      "cell_type": "code",
      "source": [
        "# Viewing of Negative Comments\n",
        "\n",
        "i = 1\n",
        "df_sorted = df.sort_values(by = ['Polarity'])\n",
        "for j in range(0,df_sorted.shape[0]):\n",
        "  if(df_sorted['Comment_type'][j] == 'Negative Comment'):\n",
        "    print(str(i) + ')' + df_sorted['Comment'][i])\n",
        "    print()\n",
        "    i = i+1"
      ],
      "metadata": {
        "colab": {
          "base_uri": "https://localhost:8080/"
        },
        "id": "h3MsxJu2UlqB",
        "outputId": "1032f0d7-e6cd-473a-9369-27cc9dd6df9c"
      },
      "execution_count": 159,
      "outputs": [
        {
          "output_type": "stream",
          "name": "stdout",
          "text": [
            "1)l am waiting 15 Th may\n",
            "\n",
            "2)Happy mother's day\n",
            "\n",
            "3)Guys n gals in your best interests i have traveled the world n have had  accounts in many different countries n without a shadow of doubt i can conclude that YES BANK is the worst  on this planet and it will SHUT DOWN soon againsave your money close this 3rd class  account n open account in some other sits been months that i have been complaining to their customer service n employees about my money that they have locked n blocked for no good reason and they not releasing or resolving and are so incompetent that their license shud be canceled STAY AWAY or else soon you all will find yourself in my position of unnecessary harassment n grief by their teamam gona put a complaint to the ceo of yes and Rbi too after this.....\n",
            "\n",
            "4)\r[PHOTO] scontentatl32.xx.fbcdn.netvt39.19976106823040.png?=1=17&=ac3552&=38k0cOfatqkAX8tb38Z&=scontentatl32.xx=0095LbJ6mibFMRm6EmaxhDNpqjMWeFIzBCQ=62956705\n",
            "\n",
            "5)Thoda sa pyar thoda sa time aur kuchh nahin\n",
            "\n",
            "6)\r[PHOTO] externalatl32.xx.fbcdn.netsafe.php?w=396=251=%3A%2F%2Fmedia1.tenor.co%2Fimages%2F862099234e8e40ea6850da57efd760bc%2Ftenor.gif%3Fitemid%3D22833921=emg0=tenor.co&=702ad&=505865&=1=36&=AQFr2pWT8kUOe26n\n",
            "\n",
            "7)Thodi si ijjat chahie\n",
            "\n",
            "8)\r[PHOTO] externalatl32.xx.fbcdn.netsafe.php?w=396=212=%3A%2F%2Fmedia1.tenor.co%2Fimages%2F993c6af8798e15db57200e3ae53ceff6%2Ftenor.gif%3Fitemid%3D17367196=emg0=tenor.co&=702ad&=505865&=1=36&=AQFaD2WbvLxJ\n",
            "\n",
            "9)Happy mother's day????????\n",
            "\n",
            "10)Happy sweet mother's day to meet you my dear friend you\n",
            "\n",
            "11)??????\n",
            "\n",
            "12)\r[PHOTO] scontentatl32.xx.fbcdn.netvt15.525610279884959.jpg?stp=dstjpg&=103=17&=ad6a45&=xtMqsO37MywAXWZ6Vg&=scontentatl32.xx=00=62948621\n",
            "\n",
            "13)Sebmandir dono\n",
            "\n",
            "14)Kam se kam ek din ki puri chhutti\n",
            "\n",
            "15)Online Credit card ?? from his mobile ?? So click on this link leads.sathi.com?h=WGZIeDgxWFIxdFNjR1JnY1lnRVNaUT09\r[PHOTO] scontentatl32.xx.fbcdn.netvt39.308086280647952.jpg?stp=dstjpg&=100=17&=dbeb18&=0JwQd3M6sfQAX9TgoD6&=scontentatl32.xx=00M1gZaHaDyxrKPlXYstC21xDg3pmG8g=62948AAF\n",
            "\n",
            "16)fb.watchcYopHx9FPq\n",
            "\n",
            "17)Dear SirMadamThe customer scanned the QR code and sent me Rs 50000 . But the credit in my  account is 41 thousand 744 rupees 36 paise I would be happy to know why my money was cut.The customer paid me 25000 rupees twice.Please tell whats the story of them big puppys .....Share details with me as soon as possible.My Shope Name is Mahir Auto Plaza\n",
            "\n",
            "18)Hello yes  had any staff??? Are working for customer???? Are you fake sales to develop your ??? Are you reply to me is it possible to before i am going to cemetery\n",
            "\n",
            "19)Boycott yes \n",
            "\n",
            "20)application.werize.comhome?partnerId=c3222b7348c34617b55e94dc532e6aa0Aply for a personal loan only Salaried person salry require 12 k above ??Note  *cibil* *issue* *FILE* *DIRECT* *WHATSAPP* *ME* *I* *HAVE* *ALL* *FINANCE* *COMPANY* 7678238800NO ADVANCE CHARGES *Get* *personal* *loans* *for* *all* *your* *requirements* *with* *WeRize*Loan starting from Rs. 50000 to Rs. 500000? No gold no collateral!? Flexible repayment options? Interest rates starting from 1%     per month? No need to visit any branchOnly for Salaried professionals with minimum monthly salary of Rs. 12000www.facebook.comgroups5235584143173380?ref=shareOr WhatsApp me on this no. For more details917678238800\r[PHOTO] l.facebook.coml.php?u=%3A%2F%2Fapplication.werize.com%2Fhome%3FpartnerId%3Dc3222b7348c34617b55e94dc532e6aa0=AT0SjvUqJZWTx6EY4N38I9bXWLxxSsNDbuZQVTL4Ra6YvZqn8QpqJh5MQ5t5cShuCCzBgN73MsGy7GP2ZdmQetfRrAIOkZMxmdVbufoyHZNK3zYKaH7fF66lby=1\n",
            "\n",
            "21)\r[PHOTO] scontentatl32.xx.fbcdn.netvt39.308086283131121.jpg?stp=dstjpg&=107=17&=dbeb18&=RfLhKXgjz6MAXPsPfO&=scontentatl32.xx=00evsUTzz52jfDA=62950DBB\n",
            "\n",
            "22)Yes  customer care number 9832529421 <> 9832529421... All problems solved.....any questions please contact us......all problems with calling..... Get all help query regarding issue.....24 hours available......\n",
            "\n",
            "23)In our new  GPS report the eighth in our Disruptive Innovations series we once again look at some of the leadingedge concepts across sectors and identify new products which could ultimately disrupt their marketplace. Read more on.3p1wSLQ\n",
            "\n",
            "24) is proud to announce that JoAnne Kelly was named a finalist for the ?Ally Changemaker Award? at the 2021 Out & Equal Summit. JoAnne is truly an example of what is means to Live Our Values at . Congratulations for your outstanding commitment to the LGBTQ community! LifeAt OESummit\n",
            "\n",
            "25)This month and every day  honors our veteran and active military colleagues for their service leadership and contributions. Working with eCornell FourBlock and NPower our  Salutes employee network recruits talented individuals and provides a platform for members to leverage the exceptional skills they have gained in the military to make an impact at work and in their communities. Learn how  is enabling progress www.group.comzencommunitysalutes?utm=salutesurl\n",
            "\n",
            "26)In our new  GPS report ?Global Carbon Markets ? Solving the Emissions Crisis Before Time Runs Out? we examine mechanisms that may help accelerate global decarbonization efforts. Read more on.2ZEOgvn COP26\n",
            "\n",
            "27)Today  and the  Foundation announced that the Action for Racial Equity initiative has invested more than $1 billion in strategic initiatives to help close the racial wealth gap and increase economic mobility in the United States in year one of a threeyear commitment. Learn more on.3ws1UOQ\n",
            "\n",
            "28)Our new  GPS report analyzes a range of different mechanisms that can be used globally to reduce greenhouse gas emissions over the next decade. Learn more on.3c3vYXq\n",
            "\n",
            "29)This VeteransDay we are looking back at the New York Mets season when Jeffrey Casio was honored as Veteran of the Game. Jeffrey served in the U.S. Army Reserve for nine years and is now part of our  Salutes affinity which recognizes all of our colleagues in uniform for their service. We honor the sacrifices all veterans have made for our freedom. Learn more about  Salutes on.3C8E2AO\n",
            "\n",
            "30)Why is enterprise learning & development the next frontier in global education? Learn more in our latest  GPS report on.3HgIt0b\n",
            "\n",
            "31)Through our global Pathways2Progress initiative we are empowering young people to create innovative solutions that address some of the biggest social challenges. In our new video series ?Creating the Future We Want' we feature young social entrepreneurs who are advancing the United Nations? SDGs. Learn more about the work that?s driving the largest youth social entrepreneurship movement in Asia Pacific!\n",
            "\n",
            "32)In our latest  GPS report we explore the role that philanthropy plays in the global economy and what the future may bring. Read more on.3kZ0RkT\n",
            "\n",
            "33)Vulcan Augmetics is a startup in Vietnam that is transforming the lives of amputees by creating affordable functional and modular prosthetic products using 3Dprinting. It is part of Youth CoLab an initiative cocreated by the  Foundation and UNDP in Asia and the Pacific and the largest youth social entrepreneurship movement in Asia Pacific. Watch to learn more. Pathways2Progress\n",
            "\n",
            "34)No kid should have to worry about their next meal. This GivingTuesday join  in supporting No Kid Hungry to help end childhood hunger in the U.S.  nokidhungry.org\n",
            "\n",
            "35)AI4GOV is a startup based in the Philippines that focuses on improving access to information and local services through artificial intelligence (AI). It is part of Youth CoLab an initiative cocreated by the  Foundation and UNDP in Asia and the Pacific and the largest youth social entrepreneurship movement in the region. Watch to learn more about AI4GOV and how they are creating solutions that advance the United Nations? SDGs. Pathways2Progress\n",
            "\n",
            "36)Biotech Bangladesh is a social startup that is taking climate action by collecting waste cooking oil from restaurants and repurposing it into biodiesel. It is part of Youth CoLab an initiative cocreated by the  Foundation and UNDP in Asia and the Pacific and the largest youth social entrepreneurship movement in Asia Pacific. Watch to learn more. Pathways2Progress\n",
            "\n",
            "37)What if giving back could be as simple as riding a bike? This season we teamed up with No Kid Hungry to turn your  Bike rides into up to 10 meals for kids facing hunger. Join us nokidhungry.org\n",
            "\n",
            "38)A youthled social enterprise that is advancing the UN SDG of good health and wellbeing EYELIKE Platform is providing access to more effective and efficient management of eye health in resourcelimited environments. It is part of Youth CoLab an initiative cocreated by the  Foundation and UNDP in Asia and the Pacific and the largest youth social entrepreneurship movement in Asia Pacific. Watch to learn more. Pathways2Progress\n",
            "\n",
            "39)Our latest  GPS report details the challenges that have emerged for supply chains as a result of the COVID19 pandemic and highlights the disruptions to the global economy and what the road to recovery may look like. Read more on.3yU3YjN\n",
            "\n",
            "40)nan\n",
            "\n",
            "41)In honor of Martin Luther King Jr. Day Harold Butler ?s Head of Diverse Financial Institutions Group sat down with Hill Harper humanitarian awardwinning actor bestselling author and entrepreneur to discuss the challenges that communities of color face to achieve emotional physical and financial wellness due to systemic inequity. Harper quotes Dr. King during their conversation.\n",
            "\n",
            "42)General CQ Brown the first AfricanAmerican appointed Chief of Staff of the Air Force sat down for a fireside chat with our own Veteran colleague Scott Stokes to discuss DE in the workplace as well as recruting and retention of Veteran talent.\n",
            "\n",
            "43)At  we have demonstrated our ongoing commitment to help close the Racial Wealth Gap with transparent actions and bold commitments. These include investing in our Action for Racial Equity ? and our dedication to pay transparency equity & representation goals. All to help drive change for our colleagues and the communities we serve. Learn more on.3uvQBGk\n",
            "\n",
            "44)Our latest  GPS report in collaboration with OPHI  Oxford Poverty and Human Development Initiative and Sophia Oxford examines how taking a multidimensional approach to poverty enables a better understanding of its depth and nature and helps formulate targeted programs to tackle it  on.3sqCL5s\n",
            "\n",
            "45)Today we?re proud to announce our Team winter Para athlete roster! Together we?re continuing our work to help change perceptions of people with disabilities and are encouraging you to join the conversation. Share your stareworthy story with StareAtGreatness. Learn more on.3LItQVU\n",
            "\n",
            "46)Join us on today at 1pm EST for an Instagram Live event with Cindy Ouellet and Trevon Jenifer. Moderated by our Chief DE Officer & Global Head of Talent Erika Irish Brown they?ll discuss our StareAtGreatness campaign the intersection of disability race gender and LGBTQ and how we can all become more active allies. on.3tun39X\n",
            "\n",
            "47)Fifteenpercent of the world?s population has a visible or invisible disability. All have their own stareworthy stories to tell. That?s why we?re continuing our StareAtGreatness campaign to flip the script and help change perceptions of people with disabilities. Our Team winter Para athletes have begun sharing their stories talents and accomplishments. Now it?s your turn. What makes you stareworthy? .comparasport\n",
            "\n",
            "48)?The more visibility and the more representation the more we continue this conversation people will stare but ? to celebrate the incredible contributions that people with disabilities make in the world.? Proud to share this awesome article about our Team athlete Tyler McGregor where he discusses what the StareAtGreatness campaign means to him and how we can all join in on the conversation to positively change the perception of people with disabilities. bit.ly3vpd1JV\n",
            "\n",
            "49)?For me there?s a sense of pride being able to narrate what a disability is?I?m the only one who sets limitations.? Team para athlete Brittani Coury shares her journey and how you can help change perceptions of people with disabilities. StareAtGreatness bit.ly35icij0\n",
            "\n",
            "50)We believe the Metaverse may be the next generation of the internet ? combining the physical and digital world in a persistent and immersive manner ? and not purely a Virtual Reality world. Read more in our latest  GPS report on.3NQwGcy\n",
            "\n",
            "51)A century ago a place known as Black Wall Street earned the reputation as a shining example of Black excellence from Blackowned businesses to prestigious schools to land ownership. Until one day it was tragically and shamefully destroyed. But the spirit of Black Wall Street wasn?t lost to history. Because today it lives on in Black entrepreneurs across the country as new Black Wall Streets rise. And  is committed to doing its part in their ongoing development. Learn more about our efforts at on.3LSpDhy ForTheLoveOfProgress\n",
            "\n"
          ]
        }
      ]
    },
    {
      "cell_type": "code",
      "source": [
        "# Count of Neutral Comments\n",
        "\n",
        "i = 1\n",
        "count = 0\n",
        "df_sorted = df.sort_values(by = ['Polarity'], ascending  = 'False')\n",
        "for j in range(0,df_sorted.shape[0]):\n",
        "  if(df_sorted['Comment_type'][j] == 'Neutral Comment'):\n",
        "    count += 1\n",
        "    i = i+1\n",
        "print(count)"
      ],
      "metadata": {
        "colab": {
          "base_uri": "https://localhost:8080/"
        },
        "id": "cY6dN5h9UvJI",
        "outputId": "9c3a3289-3687-45e8-8b5d-071f1f118dc4"
      },
      "execution_count": 160,
      "outputs": [
        {
          "output_type": "stream",
          "name": "stdout",
          "text": [
            "93\n"
          ]
        }
      ]
    },
    {
      "cell_type": "code",
      "source": [
        "# Visualization of Neutral Comments\n",
        "\n",
        "i = 1\n",
        "df_sorted = df.sort_values(by = ['Polarity'])\n",
        "for j in range(0,df_sorted.shape[0]):\n",
        "  if(df_sorted['Comment_type'][j] == 'Neutral Comment'):\n",
        "    print(str(i) + ')' + df_sorted['Comment'][i])\n",
        "    print()\n",
        "    i = i+1"
      ],
      "metadata": {
        "colab": {
          "base_uri": "https://localhost:8080/"
        },
        "id": "YxBISVYSU3Fz",
        "outputId": "22e044f1-4b2f-46f8-d8c8-b4939c7878eb"
      },
      "execution_count": 161,
      "outputs": [
        {
          "output_type": "stream",
          "name": "stdout",
          "text": [
            "1)l am waiting 15 Th may\n",
            "\n",
            "2)Happy mother's day\n",
            "\n",
            "3)Guys n gals in your best interests i have traveled the world n have had  accounts in many different countries n without a shadow of doubt i can conclude that YES BANK is the worst  on this planet and it will SHUT DOWN soon againsave your money close this 3rd class  account n open account in some other sits been months that i have been complaining to their customer service n employees about my money that they have locked n blocked for no good reason and they not releasing or resolving and are so incompetent that their license shud be canceled STAY AWAY or else soon you all will find yourself in my position of unnecessary harassment n grief by their teamam gona put a complaint to the ceo of yes and Rbi too after this.....\n",
            "\n",
            "4)\r[PHOTO] scontentatl32.xx.fbcdn.netvt39.19976106823040.png?=1=17&=ac3552&=38k0cOfatqkAX8tb38Z&=scontentatl32.xx=0095LbJ6mibFMRm6EmaxhDNpqjMWeFIzBCQ=62956705\n",
            "\n",
            "5)Thoda sa pyar thoda sa time aur kuchh nahin\n",
            "\n",
            "6)\r[PHOTO] externalatl32.xx.fbcdn.netsafe.php?w=396=251=%3A%2F%2Fmedia1.tenor.co%2Fimages%2F862099234e8e40ea6850da57efd760bc%2Ftenor.gif%3Fitemid%3D22833921=emg0=tenor.co&=702ad&=505865&=1=36&=AQFr2pWT8kUOe26n\n",
            "\n",
            "7)Thodi si ijjat chahie\n",
            "\n",
            "8)\r[PHOTO] externalatl32.xx.fbcdn.netsafe.php?w=396=212=%3A%2F%2Fmedia1.tenor.co%2Fimages%2F993c6af8798e15db57200e3ae53ceff6%2Ftenor.gif%3Fitemid%3D17367196=emg0=tenor.co&=702ad&=505865&=1=36&=AQFaD2WbvLxJ\n",
            "\n",
            "9)Happy mother's day????????\n",
            "\n",
            "10)Happy sweet mother's day to meet you my dear friend you\n",
            "\n",
            "11)??????\n",
            "\n",
            "12)\r[PHOTO] scontentatl32.xx.fbcdn.netvt15.525610279884959.jpg?stp=dstjpg&=103=17&=ad6a45&=xtMqsO37MywAXWZ6Vg&=scontentatl32.xx=00=62948621\n",
            "\n",
            "13)Sebmandir dono\n",
            "\n",
            "14)Kam se kam ek din ki puri chhutti\n",
            "\n",
            "15)Online Credit card ?? from his mobile ?? So click on this link leads.sathi.com?h=WGZIeDgxWFIxdFNjR1JnY1lnRVNaUT09\r[PHOTO] scontentatl32.xx.fbcdn.netvt39.308086280647952.jpg?stp=dstjpg&=100=17&=dbeb18&=0JwQd3M6sfQAX9TgoD6&=scontentatl32.xx=00M1gZaHaDyxrKPlXYstC21xDg3pmG8g=62948AAF\n",
            "\n",
            "16)fb.watchcYopHx9FPq\n",
            "\n",
            "17)Dear SirMadamThe customer scanned the QR code and sent me Rs 50000 . But the credit in my  account is 41 thousand 744 rupees 36 paise I would be happy to know why my money was cut.The customer paid me 25000 rupees twice.Please tell whats the story of them big puppys .....Share details with me as soon as possible.My Shope Name is Mahir Auto Plaza\n",
            "\n",
            "18)Hello yes  had any staff??? Are working for customer???? Are you fake sales to develop your ??? Are you reply to me is it possible to before i am going to cemetery\n",
            "\n",
            "19)Boycott yes \n",
            "\n",
            "20)application.werize.comhome?partnerId=c3222b7348c34617b55e94dc532e6aa0Aply for a personal loan only Salaried person salry require 12 k above ??Note  *cibil* *issue* *FILE* *DIRECT* *WHATSAPP* *ME* *I* *HAVE* *ALL* *FINANCE* *COMPANY* 7678238800NO ADVANCE CHARGES *Get* *personal* *loans* *for* *all* *your* *requirements* *with* *WeRize*Loan starting from Rs. 50000 to Rs. 500000? No gold no collateral!? Flexible repayment options? Interest rates starting from 1%     per month? No need to visit any branchOnly for Salaried professionals with minimum monthly salary of Rs. 12000www.facebook.comgroups5235584143173380?ref=shareOr WhatsApp me on this no. For more details917678238800\r[PHOTO] l.facebook.coml.php?u=%3A%2F%2Fapplication.werize.com%2Fhome%3FpartnerId%3Dc3222b7348c34617b55e94dc532e6aa0=AT0SjvUqJZWTx6EY4N38I9bXWLxxSsNDbuZQVTL4Ra6YvZqn8QpqJh5MQ5t5cShuCCzBgN73MsGy7GP2ZdmQetfRrAIOkZMxmdVbufoyHZNK3zYKaH7fF66lby=1\n",
            "\n",
            "21)\r[PHOTO] scontentatl32.xx.fbcdn.netvt39.308086283131121.jpg?stp=dstjpg&=107=17&=dbeb18&=RfLhKXgjz6MAXPsPfO&=scontentatl32.xx=00evsUTzz52jfDA=62950DBB\n",
            "\n",
            "22)Yes  customer care number 9832529421 <> 9832529421... All problems solved.....any questions please contact us......all problems with calling..... Get all help query regarding issue.....24 hours available......\n",
            "\n",
            "23)In our new  GPS report the eighth in our Disruptive Innovations series we once again look at some of the leadingedge concepts across sectors and identify new products which could ultimately disrupt their marketplace. Read more on.3p1wSLQ\n",
            "\n",
            "24) is proud to announce that JoAnne Kelly was named a finalist for the ?Ally Changemaker Award? at the 2021 Out & Equal Summit. JoAnne is truly an example of what is means to Live Our Values at . Congratulations for your outstanding commitment to the LGBTQ community! LifeAt OESummit\n",
            "\n",
            "25)This month and every day  honors our veteran and active military colleagues for their service leadership and contributions. Working with eCornell FourBlock and NPower our  Salutes employee network recruits talented individuals and provides a platform for members to leverage the exceptional skills they have gained in the military to make an impact at work and in their communities. Learn how  is enabling progress www.group.comzencommunitysalutes?utm=salutesurl\n",
            "\n",
            "26)In our new  GPS report ?Global Carbon Markets ? Solving the Emissions Crisis Before Time Runs Out? we examine mechanisms that may help accelerate global decarbonization efforts. Read more on.2ZEOgvn COP26\n",
            "\n",
            "27)Today  and the  Foundation announced that the Action for Racial Equity initiative has invested more than $1 billion in strategic initiatives to help close the racial wealth gap and increase economic mobility in the United States in year one of a threeyear commitment. Learn more on.3ws1UOQ\n",
            "\n",
            "28)Our new  GPS report analyzes a range of different mechanisms that can be used globally to reduce greenhouse gas emissions over the next decade. Learn more on.3c3vYXq\n",
            "\n",
            "29)This VeteransDay we are looking back at the New York Mets season when Jeffrey Casio was honored as Veteran of the Game. Jeffrey served in the U.S. Army Reserve for nine years and is now part of our  Salutes affinity which recognizes all of our colleagues in uniform for their service. We honor the sacrifices all veterans have made for our freedom. Learn more about  Salutes on.3C8E2AO\n",
            "\n",
            "30)Why is enterprise learning & development the next frontier in global education? Learn more in our latest  GPS report on.3HgIt0b\n",
            "\n",
            "31)Through our global Pathways2Progress initiative we are empowering young people to create innovative solutions that address some of the biggest social challenges. In our new video series ?Creating the Future We Want' we feature young social entrepreneurs who are advancing the United Nations? SDGs. Learn more about the work that?s driving the largest youth social entrepreneurship movement in Asia Pacific!\n",
            "\n",
            "32)In our latest  GPS report we explore the role that philanthropy plays in the global economy and what the future may bring. Read more on.3kZ0RkT\n",
            "\n",
            "33)Vulcan Augmetics is a startup in Vietnam that is transforming the lives of amputees by creating affordable functional and modular prosthetic products using 3Dprinting. It is part of Youth CoLab an initiative cocreated by the  Foundation and UNDP in Asia and the Pacific and the largest youth social entrepreneurship movement in Asia Pacific. Watch to learn more. Pathways2Progress\n",
            "\n",
            "34)No kid should have to worry about their next meal. This GivingTuesday join  in supporting No Kid Hungry to help end childhood hunger in the U.S.  nokidhungry.org\n",
            "\n",
            "35)AI4GOV is a startup based in the Philippines that focuses on improving access to information and local services through artificial intelligence (AI). It is part of Youth CoLab an initiative cocreated by the  Foundation and UNDP in Asia and the Pacific and the largest youth social entrepreneurship movement in the region. Watch to learn more about AI4GOV and how they are creating solutions that advance the United Nations? SDGs. Pathways2Progress\n",
            "\n",
            "36)Biotech Bangladesh is a social startup that is taking climate action by collecting waste cooking oil from restaurants and repurposing it into biodiesel. It is part of Youth CoLab an initiative cocreated by the  Foundation and UNDP in Asia and the Pacific and the largest youth social entrepreneurship movement in Asia Pacific. Watch to learn more. Pathways2Progress\n",
            "\n",
            "37)What if giving back could be as simple as riding a bike? This season we teamed up with No Kid Hungry to turn your  Bike rides into up to 10 meals for kids facing hunger. Join us nokidhungry.org\n",
            "\n",
            "38)A youthled social enterprise that is advancing the UN SDG of good health and wellbeing EYELIKE Platform is providing access to more effective and efficient management of eye health in resourcelimited environments. It is part of Youth CoLab an initiative cocreated by the  Foundation and UNDP in Asia and the Pacific and the largest youth social entrepreneurship movement in Asia Pacific. Watch to learn more. Pathways2Progress\n",
            "\n",
            "39)Our latest  GPS report details the challenges that have emerged for supply chains as a result of the COVID19 pandemic and highlights the disruptions to the global economy and what the road to recovery may look like. Read more on.3yU3YjN\n",
            "\n",
            "40)nan\n",
            "\n",
            "41)In honor of Martin Luther King Jr. Day Harold Butler ?s Head of Diverse Financial Institutions Group sat down with Hill Harper humanitarian awardwinning actor bestselling author and entrepreneur to discuss the challenges that communities of color face to achieve emotional physical and financial wellness due to systemic inequity. Harper quotes Dr. King during their conversation.\n",
            "\n",
            "42)General CQ Brown the first AfricanAmerican appointed Chief of Staff of the Air Force sat down for a fireside chat with our own Veteran colleague Scott Stokes to discuss DE in the workplace as well as recruting and retention of Veteran talent.\n",
            "\n",
            "43)At  we have demonstrated our ongoing commitment to help close the Racial Wealth Gap with transparent actions and bold commitments. These include investing in our Action for Racial Equity ? and our dedication to pay transparency equity & representation goals. All to help drive change for our colleagues and the communities we serve. Learn more on.3uvQBGk\n",
            "\n",
            "44)Our latest  GPS report in collaboration with OPHI  Oxford Poverty and Human Development Initiative and Sophia Oxford examines how taking a multidimensional approach to poverty enables a better understanding of its depth and nature and helps formulate targeted programs to tackle it  on.3sqCL5s\n",
            "\n",
            "45)Today we?re proud to announce our Team winter Para athlete roster! Together we?re continuing our work to help change perceptions of people with disabilities and are encouraging you to join the conversation. Share your stareworthy story with StareAtGreatness. Learn more on.3LItQVU\n",
            "\n",
            "46)Join us on today at 1pm EST for an Instagram Live event with Cindy Ouellet and Trevon Jenifer. Moderated by our Chief DE Officer & Global Head of Talent Erika Irish Brown they?ll discuss our StareAtGreatness campaign the intersection of disability race gender and LGBTQ and how we can all become more active allies. on.3tun39X\n",
            "\n",
            "47)Fifteenpercent of the world?s population has a visible or invisible disability. All have their own stareworthy stories to tell. That?s why we?re continuing our StareAtGreatness campaign to flip the script and help change perceptions of people with disabilities. Our Team winter Para athletes have begun sharing their stories talents and accomplishments. Now it?s your turn. What makes you stareworthy? .comparasport\n",
            "\n",
            "48)?The more visibility and the more representation the more we continue this conversation people will stare but ? to celebrate the incredible contributions that people with disabilities make in the world.? Proud to share this awesome article about our Team athlete Tyler McGregor where he discusses what the StareAtGreatness campaign means to him and how we can all join in on the conversation to positively change the perception of people with disabilities. bit.ly3vpd1JV\n",
            "\n",
            "49)?For me there?s a sense of pride being able to narrate what a disability is?I?m the only one who sets limitations.? Team para athlete Brittani Coury shares her journey and how you can help change perceptions of people with disabilities. StareAtGreatness bit.ly35icij0\n",
            "\n",
            "50)We believe the Metaverse may be the next generation of the internet ? combining the physical and digital world in a persistent and immersive manner ? and not purely a Virtual Reality world. Read more in our latest  GPS report on.3NQwGcy\n",
            "\n",
            "51)A century ago a place known as Black Wall Street earned the reputation as a shining example of Black excellence from Blackowned businesses to prestigious schools to land ownership. Until one day it was tragically and shamefully destroyed. But the spirit of Black Wall Street wasn?t lost to history. Because today it lives on in Black entrepreneurs across the country as new Black Wall Streets rise. And  is committed to doing its part in their ongoing development. Learn more about our efforts at on.3LSpDhy ForTheLoveOfProgress\n",
            "\n",
            "52)nan\n",
            "\n",
            "53)Baseball is back and so is the  Community Home Runs program! That means for every New York Mets home run hit at  Field  will donate $2000 to No Kid Hungry. Since the 2016 season  has donated more than $1 million to help in the fight against childhood hunger. To learn more about the program visit mets.com.\n",
            "\n",
            "54)Today  released its 2021 Environmental Social and Governance Report detailing the progress we've made on our longstanding ESG commitments as well as efforts to address more immediate global challenges. Learn more on.3vdm2VT\n",
            "\n",
            "55)Today?s generation is at the forefront of a new space era ? one that will be farreaching inclusive and potentially more disruptive. We have finally come to a stage where the dreams around space from childhood are turning into reality. Read more in our latest  GPS report on.3wsMOJm\n",
            "\n",
            "56)At  we stand in unity with the AAPI community and support the career development of our AAPI colleagues. That?s why we invest in mentoring groups leadership programs and more to empower their career growth. Learn more at on.37PF3ox APAHM\n",
            "\n",
            "57)Today we?re excited to announce we are the founding partner of PARA SPORT! Through this new grassrootstohigh performance program  is dedicated to changing the narrative around people with disabilities and helping grow Para sports through 2024. Click here to learn more on.3wtK4MW\n",
            "\n",
            "58)\"You don?t have to be an athlete to start you just have to start.? The PARA SPORT program is all about fostering the growth of sports for people with disabilities from grassrootstohigh performance. Take it from Team athlete Brad Snyder. ParaSport ItStartswithSport on.3yOWa4J\n",
            "\n",
            "59)?Don?t be afraid. If you want to practice a sport do it try it.? One of the core pillars of PARA SPORT is helping people with disabilities engage more actively in sport by raising awareness of opportunities and the benefits of the program for them and their families. Hear more about the program from Team athlete Gustavo Sanchez on.3wM2lnu\n",
            "\n",
            "60)nan\n",
            "\n",
            "61)?The biggest impact that sport can have for people with disabilities is learning to reclaim and learn your physical self.? Hear more from Team athlete Madison de Rozario on how PARA SPORT will help Para athletes through the development of more sports programs  on.3zrF9hA\n",
            "\n",
            "62)Happy mother day\n",
            "\n",
            "63)l am waiting 15 Th may\n",
            "\n",
            "64)Happy mother's day\n",
            "\n",
            "65)Guys n gals in your best interests i have traveled the world n have had  accounts in many different countries n without a shadow of doubt i can conclude that YES BANK is the worst  on this planet and it will SHUT DOWN soon againsave your money close this 3rd class  account n open account in some other sits been months that i have been complaining to their customer service n employees about my money that they have locked n blocked for no good reason and they not releasing or resolving and are so incompetent that their license shud be canceled STAY AWAY or else soon you all will find yourself in my position of unnecessary harassment n grief by their teamam gona put a complaint to the ceo of yes and Rbi too after this.....\n",
            "\n",
            "66)\r[PHOTO] scontentatl32.xx.fbcdn.netvt39.19976106823040.png?=1=17&=ac3552&=38k0cOfatqkAX8tb38Z&=scontentatl32.xx=0095LbJ6mibFMRm6EmaxhDNpqjMWeFIzBCQ=62956705\n",
            "\n",
            "67)Thoda sa pyar thoda sa time aur kuchh nahin\n",
            "\n",
            "68)\r[PHOTO] externalatl32.xx.fbcdn.netsafe.php?w=396=251=%3A%2F%2Fmedia1.tenor.co%2Fimages%2F862099234e8e40ea6850da57efd760bc%2Ftenor.gif%3Fitemid%3D22833921=emg0=tenor.co&=702ad&=505865&=1=36&=AQFr2pWT8kUOe26n\n",
            "\n",
            "69)Thodi si ijjat chahie\n",
            "\n",
            "70)\r[PHOTO] externalatl32.xx.fbcdn.netsafe.php?w=396=212=%3A%2F%2Fmedia1.tenor.co%2Fimages%2F993c6af8798e15db57200e3ae53ceff6%2Ftenor.gif%3Fitemid%3D17367196=emg0=tenor.co&=702ad&=505865&=1=36&=AQFaD2WbvLxJ\n",
            "\n",
            "71)Happy mother's day????????\n",
            "\n",
            "72)Happy sweet mother's day to meet you my dear friend you\n",
            "\n",
            "73)??????\n",
            "\n",
            "74)\r[PHOTO] scontentatl32.xx.fbcdn.netvt15.525610279884959.jpg?stp=dstjpg&=103=17&=ad6a45&=xtMqsO37MywAXWZ6Vg&=scontentatl32.xx=00=62948621\n",
            "\n",
            "75)Sebmandir dono\n",
            "\n",
            "76)Kam se kam ek din ki puri chhutti\n",
            "\n",
            "77)Online Credit card ?? from his mobile ?? So click on this link leads.sathi.com?h=WGZIeDgxWFIxdFNjR1JnY1lnRVNaUT09\r[PHOTO] scontentatl32.xx.fbcdn.netvt39.308086280647952.jpg?stp=dstjpg&=100=17&=dbeb18&=0JwQd3M6sfQAX9TgoD6&=scontentatl32.xx=00M1gZaHaDyxrKPlXYstC21xDg3pmG8g=62948AAF\n",
            "\n",
            "78)fb.watchcYopHx9FPq\n",
            "\n",
            "79)Dear SirMadamThe customer scanned the QR code and sent me Rs 50000 . But the credit in my  account is 41 thousand 744 rupees 36 paise I would be happy to know why my money was cut.The customer paid me 25000 rupees twice.Please tell whats the story of them big puppys .....Share details with me as soon as possible.My Shope Name is Mahir Auto Plaza\n",
            "\n",
            "80)Hello yes  had any staff??? Are working for customer???? Are you fake sales to develop your ??? Are you reply to me is it possible to before i am going to cemetery\n",
            "\n",
            "81)Boycott yes \n",
            "\n",
            "82)application.werize.comhome?partnerId=c3222b7348c34617b55e94dc532e6aa0Aply for a personal loan only Salaried person salry require 12 k above ??Note  *cibil* *issue* *FILE* *DIRECT* *WHATSAPP* *ME* *I* *HAVE* *ALL* *FINANCE* *COMPANY* 7678238800NO ADVANCE CHARGES *Get* *personal* *loans* *for* *all* *your* *requirements* *with* *WeRize*Loan starting from Rs. 50000 to Rs. 500000? No gold no collateral!? Flexible repayment options? Interest rates starting from 1%     per month? No need to visit any branchOnly for Salaried professionals with minimum monthly salary of Rs. 12000www.facebook.comgroups5235584143173380?ref=shareOr WhatsApp me on this no. For more details917678238800\r[PHOTO] l.facebook.coml.php?u=%3A%2F%2Fapplication.werize.com%2Fhome%3FpartnerId%3Dc3222b7348c34617b55e94dc532e6aa0=AT0SjvUqJZWTx6EY4N38I9bXWLxxSsNDbuZQVTL4Ra6YvZqn8QpqJh5MQ5t5cShuCCzBgN73MsGy7GP2ZdmQetfRrAIOkZMxmdVbufoyHZNK3zYKaH7fF66lby=1\n",
            "\n",
            "83)\r[PHOTO] scontentatl32.xx.fbcdn.netvt39.308086283131121.jpg?stp=dstjpg&=107=17&=dbeb18&=RfLhKXgjz6MAXPsPfO&=scontentatl32.xx=00evsUTzz52jfDA=62950DBB\n",
            "\n",
            "84)Yes  customer care number 9832529421 <> 9832529421... All problems solved.....any questions please contact us......all problems with calling..... Get all help query regarding issue.....24 hours available......\n",
            "\n",
            "85)??\n",
            "\n",
            "86)??\n",
            "\n",
            "87)I don't know how anyone can recommend  for anything.  They have the absolute worst customer service I have ever dealt with.  I hired a moving company   to move my stuff they literally threw my property around breaking it.  I opened a dispute with  and let them know I have video of the gross negligence and almost malicious treatment of my property.  They never contacted me never asked for the video and denied the dispute saying there was no proof.  I have offered to share the link so they can see the video they say they cannot view the video.  How do their investigators investigate anything if they cannot watch video and will not call the complainant?  Judge for yourselves this is one of several videos I have ... do you think I have proof?  1drv.msvs!ArWuDzGkL7xjn5ceMM5zL2Ze?e=Dta8kV\r[PHOTO] l.facebook.coml.php?u=%3A%2F%2F1drv.ms%2Fv%2Fs%21ArWuDzGkL7xjn5ceMM5zL2Ze%3Fe%3DDta8kV=AT1WHNA6hzYtYzlUFXAtwlCN9zs6rWLauxOX3krWnlEEkwPBAyYLmN33i1NrRCRoXfjnmnrM3wLB1dVm6q3qMUatKdbjsEs4QCsEyZWTlEyunGcgS9D6M0orDQvm7XyvDfaD619yv0ePedjcrpAvDPzWu8v88rT4v=1\n",
            "\n",
            "88)????\n",
            "\n",
            "89)To report a lost credit card I pressed 2 and it asked for my credit card number. After typing it in it asked if I want to check my balance  or other options unrelated. I already pressed I lost my credit card and hindi na lumabas yung option to report the lost credit card. Are you aware about your grossly incorrect landline options? There's no urgency or even a solution when I  \"report\" my lost card.\n",
            "\n",
            "90)This company are a bunch of scammers. I have NEVER received a bill for my Best Buy  CC. Then I find out that they have reported to the Credit Report that I have been late. I have no bill no address to send it to no account number. I guess I am supposed to login and check what my monthly balance is? But I have no way in logging in.\n",
            "\n",
            "91)Master card\n",
            "\n",
            "92)  the  that later became group pushed hard for the United States to take over Haiti.A leader of the American force in Haiti wrote in 1935 that he helped make Haiti and Cuba a decent place for the National City  boys to collect revenues www.nytimes.com20220520worldhaitiwallstreetuss.html\r[PHOTO] externalams41.xx.fbcdn.netsafe.php?w=396=207=%3A%2F%2Fstatic01.nyt.com%2Fimages%2F2022%2F05%2F16%2Fworld%2F00haitipartfour%2F00haitipartfourfacebookJumbo.jpg=emg0=nyt.com&=703fa&=505865&=1=36&=AQFdU9dc3v6SWQN5\n",
            "\n",
            "93)www.thedenverchannel.comnewsnationalnumerousamericancompaniesstilldoingbusinessinrussia?=true\r[PHOTO] externalams41.xx.fbcdn.netsafe.php?w=396=207=%3A%2F%2Fewscripps.brightspotcdn.com%2Fdims4%2Fdefault%2F548ff58%2F2147483647%2Fstrip%2Ftrue%2Fcrop%2F7087x3721%2B0%2B502%2Fresize%2F1200x630%21%2Fquality%2F90%2F%3Furl%3D%253A%252F%252Fewscripps.brightspotcdn.com%252F39%252F66%252F1ebec5464f79be2b13b9ff64e539%252Fap21362596403654.jpg=emg0=brightspotcdn.com&=703fa&=505865&=1=36&=AQFR5HT2Nipn9l4b\n",
            "\n"
          ]
        }
      ]
    },
    {
      "cell_type": "code",
      "source": [
        "# Sentiment Analysis Graphical Representation\n",
        "\n",
        "import matplotlib.pyplot as plt\n",
        "plt.style.use('fivethirtyeight')\n",
        "plt.figure(figsize=(8,6))\n",
        "for i in range(0,df.shape[0]):\n",
        "  plt.scatter(df['Polarity'][i],df['Subjectivity'][i], color = 'Green')\n",
        "plt.title('Sentiment Analysis')\n",
        "plt.xlabel('Polarity')\n",
        "plt.ylabel('Subjectivity')\n",
        "plt.show()"
      ],
      "metadata": {
        "colab": {
          "base_uri": "https://localhost:8080/",
          "height": 441
        },
        "id": "r_MotQkYVJ_A",
        "outputId": "51e8f094-ebc8-4fd2-d627-d3fe3b1ab4dc"
      },
      "execution_count": 162,
      "outputs": [
        {
          "output_type": "display_data",
          "data": {
            "text/plain": [
              "<Figure size 576x432 with 1 Axes>"
            ],
            "image/png": "[encoded data removed]"
          },
          "metadata": {}
        }
      ]
    },
    {
      "cell_type": "markdown",
      "source": [
        "Positive, Negative and Neutral Tweets in Percentage"
      ],
      "metadata": {
        "id": "nYW2oF4-VeUy"
      }
    },
    {
      "cell_type": "code",
      "source": [
        "positive_Comments = df[df['Comment_type'] == 'Positive Comment']\n",
        "round((positive_Comments.shape[0] / df.shape[0]) * 100 , 2)"
      ],
      "metadata": {
        "colab": {
          "base_uri": "https://localhost:8080/"
        },
        "id": "XmgyYHXiVfgJ",
        "outputId": "3b3b86b6-9826-4eb3-eda6-5e8caf517f30"
      },
      "execution_count": 163,
      "outputs": [
        {
          "output_type": "execute_result",
          "data": {
            "text/plain": [
              "37.39"
            ]
          },
          "metadata": {},
          "execution_count": 163
        }
      ]
    },
    {
      "cell_type": "code",
      "source": [
        "negative_Comments = df[df['Comment_type'] == 'Negative Comment']\n",
        "round((negative_Comments.shape[0] / df.shape[0]) * 100 , 2)"
      ],
      "metadata": {
        "colab": {
          "base_uri": "https://localhost:8080/"
        },
        "id": "6wdxi2XwVtIS",
        "outputId": "c3f0489e-8bcc-4073-88d0-0454cf791e14"
      },
      "execution_count": 164,
      "outputs": [
        {
          "output_type": "execute_result",
          "data": {
            "text/plain": [
              "22.17"
            ]
          },
          "metadata": {},
          "execution_count": 164
        }
      ]
    },
    {
      "cell_type": "code",
      "source": [
        "neutral_Comments = df[df['Comment_type'] == 'Neutral Comment']\n",
        "round((neutral_Comments.shape[0] / df.shape[0]) * 100 , 2)"
      ],
      "metadata": {
        "colab": {
          "base_uri": "https://localhost:8080/"
        },
        "id": "iw4XW9s2V1_5",
        "outputId": "da0d311c-323e-430a-eb2f-7934677ac629"
      },
      "execution_count": 165,
      "outputs": [
        {
          "output_type": "execute_result",
          "data": {
            "text/plain": [
              "40.43"
            ]
          },
          "metadata": {},
          "execution_count": 165
        }
      ]
    },
    {
      "cell_type": "code",
      "source": [
        "# Graph of count of various types of Tweets\n",
        "\n",
        "import matplotlib.pyplot as plt\n",
        "plt.style.use('fivethirtyeight')\n",
        "df['Comment_type'].value_counts()\n",
        "plt.title('Sentiment Analysis')\n",
        "plt.xlabel('Sentiment')\n",
        "plt.ylabel('Counts')\n",
        "df['Comment_type'].value_counts().plot(kind = 'bar')\n",
        "plt.show()"
      ],
      "metadata": {
        "colab": {
          "base_uri": "https://localhost:8080/",
          "height": 447
        },
        "id": "G2zzN065V-13",
        "outputId": "26371977-a596-4914-dfea-4d76e61ec53e"
      },
      "execution_count": 166,
      "outputs": [
        {
          "output_type": "display_data",
          "data": {
            "text/plain": [
              "<Figure size 432x288 with 1 Axes>"
            ],
            "image/png": "[encoded data removed]"
          },
          "metadata": {}
        }
      ]
    },
    {
      "cell_type": "markdown",
      "source": [
        "NLP Part :"
      ],
      "metadata": {
        "id": "fKsfGod1WKmY"
      }
    },
    {
      "cell_type": "code",
      "source": [
        "df_dummy = df[df['Comment_type'] == 'Positive Comment']\n",
        "df_positive = df_dummy['Comment']\n",
        "del(df_dummy)\n",
        "df_positive"
      ],
      "metadata": {
        "id": "kGM1aChMWL7x",
        "colab": {
          "base_uri": "https://localhost:8080/"
        },
        "outputId": "b03cc438-e3a1-4f57-8387-6b790f3cd7c8"
      },
      "execution_count": 167,
      "outputs": [
        {
          "output_type": "execute_result",
          "data": {
            "text/plain": [
              "0                                       Happy mother day\n",
              "2                                     Happy mother's day\n",
              "9                             Happy mother's day????????\n",
              "10     Happy sweet mother's day to meet you my dear f...\n",
              "17     Dear SirMadamThe customer scanned the QR code ...\n",
              "                             ...                        \n",
              "218    I continuing to support Russia you?re helping ...\n",
              "220    Your company still working on russian federati...\n",
              "221    First why have you delegated hr functions of  ...\n",
              "225    So certain people can't cash checks at your ? ...\n",
              "227    Helloi am Samantha and I am available for hook...\n",
              "Name: Comment, Length: 86, dtype: object"
            ]
          },
          "metadata": {},
          "execution_count": 167
        }
      ]
    },
    {
      "cell_type": "code",
      "source": [
        "from nltk import tokenize\n",
        "from operator import itemgetter\n",
        "import math"
      ],
      "metadata": {
        "id": "cbqW9LE4onec"
      },
      "execution_count": 168,
      "outputs": []
    },
    {
      "cell_type": "code",
      "source": [
        "pip install nltk"
      ],
      "metadata": {
        "colab": {
          "base_uri": "https://localhost:8080/"
        },
        "id": "JnH8QzisorpV",
        "outputId": "5446cd8d-5f83-4827-b7d8-f79c11c7bcf3"
      },
      "execution_count": 169,
      "outputs": [
        {
          "output_type": "stream",
          "name": "stdout",
          "text": [
            "Looking in indexes: https://pypi.org/simple, https://us-python.pkg.dev/colab-wheels/public/simple/\n",
            "Requirement already satisfied: nltk in /usr/local/lib/python3.7/dist-packages (3.2.5)\n",
            "Requirement already satisfied: six in /usr/local/lib/python3.7/dist-packages (from nltk) (1.15.0)\n"
          ]
        }
      ]
    },
    {
      "cell_type": "code",
      "source": [
        "pip install stopwords"
      ],
      "metadata": {
        "colab": {
          "base_uri": "https://localhost:8080/"
        },
        "id": "DypDrjpaowU9",
        "outputId": "52094f1a-d3b0-4a7b-9b2a-e0eaa34d9716"
      },
      "execution_count": 170,
      "outputs": [
        {
          "output_type": "stream",
          "name": "stdout",
          "text": [
            "Looking in indexes: https://pypi.org/simple, https://us-python.pkg.dev/colab-wheels/public/simple/\n",
            "Requirement already satisfied: stopwords in /usr/local/lib/python3.7/dist-packages (1.0.0)\n"
          ]
        }
      ]
    },
    {
      "cell_type": "code",
      "source": [
        "import nltk\n",
        "nltk.download('stopwords')\n",
        "from nltk.corpus import stopwords\n",
        "from nltk.tokenize import word_tokenize \n",
        "stop_words = set(stopwords.words('english'))"
      ],
      "metadata": {
        "colab": {
          "base_uri": "https://localhost:8080/"
        },
        "id": "DGE5q6d5o4Mn",
        "outputId": "8b94e997-effd-49a9-9a59-9d852cf30601"
      },
      "execution_count": 171,
      "outputs": [
        {
          "output_type": "stream",
          "name": "stdout",
          "text": [
            "[nltk_data] Downloading package stopwords to /root/nltk_data...\n",
            "[nltk_data]   Package stopwords is already up-to-date!\n"
          ]
        }
      ]
    },
    {
      "cell_type": "code",
      "source": [
        "import nltk\n",
        "nltk.download('punkt')"
      ],
      "metadata": {
        "colab": {
          "base_uri": "https://localhost:8080/"
        },
        "id": "nWA3cs7UrHIQ",
        "outputId": "6d67c62a-3ad7-4b9f-d3ba-534e47bd5429"
      },
      "execution_count": 172,
      "outputs": [
        {
          "output_type": "stream",
          "name": "stdout",
          "text": [
            "[nltk_data] Downloading package punkt to /root/nltk_data...\n",
            "[nltk_data]   Package punkt is already up-to-date!\n"
          ]
        },
        {
          "output_type": "execute_result",
          "data": {
            "text/plain": [
              "True"
            ]
          },
          "metadata": {},
          "execution_count": 172
        }
      ]
    },
    {
      "cell_type": "code",
      "source": [
        "from nltk import tokenize\n",
        "from operator import itemgetter\n",
        "import math"
      ],
      "metadata": {
        "id": "so6PegVurKrp"
      },
      "execution_count": 173,
      "outputs": []
    },
    {
      "cell_type": "code",
      "source": [
        "# total no. of words in positive Tweets\n",
        "\n",
        "df_positive = df_positive.to_string()\n",
        "total_words = df_positive.split()\n",
        "total_word_length = len(total_words)\n",
        "print(total_word_length)"
      ],
      "metadata": {
        "colab": {
          "base_uri": "https://localhost:8080/"
        },
        "id": "GA5bgmParPYV",
        "outputId": "bd48d1ac-b67a-4656-b97e-4d02e0d9166e"
      },
      "execution_count": 174,
      "outputs": [
        {
          "output_type": "stream",
          "name": "stdout",
          "text": [
            "758\n"
          ]
        }
      ]
    },
    {
      "cell_type": "code",
      "source": [
        "# total no. of sentences in positive Tweets\n",
        "\n",
        "total_sentences = tokenize.sent_tokenize(df_positive)\n",
        "total_sent_len = len(total_sentences)\n",
        "print(total_sent_len)"
      ],
      "metadata": {
        "colab": {
          "base_uri": "https://localhost:8080/"
        },
        "id": "2ji0WkgerP7c",
        "outputId": "47454984-c031-4ab6-9e9e-29ceea74fbfc"
      },
      "execution_count": 175,
      "outputs": [
        {
          "output_type": "stream",
          "name": "stdout",
          "text": [
            "17\n"
          ]
        }
      ]
    },
    {
      "cell_type": "code",
      "source": [
        "tf_score = {}\n",
        "for each_word in total_words:\n",
        "    each_word = each_word.replace('.','')\n",
        "    if each_word not in stop_words:\n",
        "        if each_word in tf_score:\n",
        "            tf_score[each_word] += 1\n",
        "        else:\n",
        "            tf_score[each_word] = 1\n",
        "tf_score.update((x, y/int(total_word_length)) for x, y in tf_score.items())"
      ],
      "metadata": {
        "id": "vuhJhMTJrQAb"
      },
      "execution_count": 176,
      "outputs": []
    },
    {
      "cell_type": "code",
      "source": [
        "def check_sent(word, sentences): \n",
        "    final = [all([w in x for w in word]) for x in sentences] \n",
        "    sent_len = [sentences[i] for i in range(0, len(final)) if final[i]]\n",
        "    return int(len(sent_len))"
      ],
      "metadata": {
        "id": "CCIUgvUprbls"
      },
      "execution_count": 177,
      "outputs": []
    },
    {
      "cell_type": "code",
      "source": [
        "idf_score = {}\n",
        "for each_word in total_words:\n",
        "    each_word = each_word.replace('.','')\n",
        "    if each_word not in stop_words:\n",
        "        if each_word in idf_score:\n",
        "            idf_score[each_word] = check_sent(each_word, total_sentences)\n",
        "        else:\n",
        "            idf_score[each_word] = 1\n",
        "\n",
        "\n",
        "idf_score.update((x, math.log(int(total_sent_len)/y)) for x, y in idf_score.items())"
      ],
      "metadata": {
        "id": "oHk1quzWrdiy"
      },
      "execution_count": 178,
      "outputs": []
    },
    {
      "cell_type": "code",
      "source": [
        "tf_idf_score = {key: tf_score[key] * idf_score.get(key, 0) for key in tf_score.keys()}"
      ],
      "metadata": {
        "id": "z1-HM7uUrgcu"
      },
      "execution_count": 179,
      "outputs": []
    },
    {
      "cell_type": "code",
      "source": [
        "def get_top_n(dict_elem, n):\n",
        "    result = dict(sorted(dict_elem.items(), key = itemgetter(1), reverse = True)[:n]) \n",
        "    return result"
      ],
      "metadata": {
        "id": "kv_tLVw8rjKX"
      },
      "execution_count": 180,
      "outputs": []
    },
    {
      "cell_type": "code",
      "source": [
        "# top 37 of important words in positive Tweets (since 37.39% of positive tweets are there we choose 37 top important words)\n",
        "\n",
        "get_top_n(tf_idf_score,37)"
      ],
      "metadata": {
        "colab": {
          "base_uri": "https://localhost:8080/"
        },
        "id": "38O1bFXIrmi7",
        "outputId": "41072b3a-be07-4224-d111-c12c65b94202"
      },
      "execution_count": 181,
      "outputs": [
        {
          "output_type": "execute_result",
          "data": {
            "text/plain": [
              "{'&': 0.005646612568591744,\n",
              " '0': 0.0037377484750082007,\n",
              " '17': 0.0037377484750082007,\n",
              " '20': 0.0037377484750082007,\n",
              " '22': 0.0037377484750082007,\n",
              " '23': 0.0037377484750082007,\n",
              " '24': 0.0037377484750082007,\n",
              " '9': 0.0037377484750082007,\n",
              " '983252': 0.004576783787303711,\n",
              " '9832529421': 0.005646612568591744,\n",
              " '<>': 0.005646612568591744,\n",
              " '?The': 0.004576783787303711,\n",
              " 'At': 0.0038177281871670855,\n",
              " 'Dear': 0.004576783787303711,\n",
              " 'Disru': 0.0037377484750082007,\n",
              " 'First': 0.004576783787303711,\n",
              " 'GPS': 0.022426490850049205,\n",
              " 'Happy': 0.009364677519798446,\n",
              " 'I': 0.006317280717462138,\n",
              " 'JoAnne': 0.0037377484750082007,\n",
              " 'Kelly': 0.0037377484750082007,\n",
              " 'Our': 0.011213245425024602,\n",
              " 'QR': 0.005646612568591744,\n",
              " 'Russia': 0.008390353122955102,\n",
              " 'SirMadamThe': 0.005646612568591744,\n",
              " 'This': 0.00412184910881858,\n",
              " 'Today': 0.005495798811758107,\n",
              " 'Ukraine': 0.0068651756809555665,\n",
              " 'Why': 0.0057265922807506284,\n",
              " 'You': 0.004843438383728691,\n",
              " 'applicationwerizecomhome?partnerId=c3222b734': 0.005646612568591744,\n",
              " 'back': 0.0038177281871670855,\n",
              " 'day': 0.005168684223378113,\n",
              " 'eighth': 0.0037377484750082007,\n",
              " \"mother's\": 0.005966531417227285,\n",
              " 'next': 0.004576783787303711,\n",
              " 'report': 0.004135567610044778}"
            ]
          },
          "metadata": {},
          "execution_count": 181
        }
      ]
    },
    {
      "cell_type": "code",
      "source": [
        "df_dummy = df[df['Comment_type'] == 'Negative Comment']\n",
        "df_negative = df_dummy['Comment']\n",
        "del(df_dummy)\n",
        "df_negative"
      ],
      "metadata": {
        "colab": {
          "base_uri": "https://localhost:8080/"
        },
        "id": "TYRNuw6vrs79",
        "outputId": "32b43a2c-b347-49ef-f987-25e5178c3bb2"
      },
      "execution_count": 182,
      "outputs": [
        {
          "output_type": "execute_result",
          "data": {
            "text/plain": [
              "3      Guys n gals in your best interests i have trav...\n",
              "18     Hello yes  had any staff??? Are working for cu...\n",
              "35     AI4GOV is a startup based in the Philippines t...\n",
              "41     In honor of Martin Luther King Jr. Day Harold ...\n",
              "51     A century ago a place known as Black Wall Stre...\n",
              "65     Guys n gals in your best interests i have trav...\n",
              "80     Hello yes  had any staff??? Are working for cu...\n",
              "87     I don't know how anyone can recommend  for any...\n",
              "92       the  that later became group pushed hard for...\n",
              "97     DO NOT USE THIS BANK THEY ARBITRARILY Closed m...\n",
              "98     I was buying a property unfortunately my loan ...\n",
              "99     If I didn't get my money back in One week then...\n",
              "100    Pathetic service don't use this  services u wi...\n",
              "102    NO ONE EVER ANSWERS THE TELEPHONE. THEY ASK YO...\n",
              "106    I paid full payment and you still charge me. I...\n",
              "107    This week I have spent over 6 hours on the pho...\n",
              "109    Worst  ever. Refuses to refund $1450 that was ...\n",
              "115    This week I have spent over 6 hours on the pho...\n",
              "117    Your customer service representative treated m...\n",
              "118    How can you espouse \"love\" when you fired all ...\n",
              "119    Worst  ever. Refuses to refund $1450 that was ...\n",
              "123     has the worst foreign travel support of any c...\n",
              "125     you are the worst company for customer servic...\n",
              "126    Hello I am the CEO of Black Wall Street Televi...\n",
              "127    16 years.. same card.. worst service of any bu...\n",
              "128    I'm having a terrible experience ing with your...\n",
              "129    My daughter is a victim of SIM Card Swap...aka...\n",
              "131     It seems years have gone by and the fraud pro...\n",
              "143    I?m buying call options on your stock so don?t...\n",
              "147    Shame...you know  i am from Kyiv and living he...\n",
              "156    Please fully stop your business in Russia each...\n",
              "158    I?m trying to get ahold of Tyler Alcorn to dis...\n",
              "162    Every morning 40 million Ukrainians and part o...\n",
              "168    103  Your business has helped Russian terroris...\n",
              "176    I'm glad I sold my stock!!  To hear that you a...\n",
              "184    This is the third day when Ukrainians are desp...\n",
              "186    You support all the financial infrastructure o...\n",
              "189    I'm CANCELLING my  Costco card if you don't pu...\n",
              "191    To the corporate officeAs a Ukrainian now livi...\n",
              "195    Yesterday Russian troops attacked a maternity ...\n",
              "205    Do not be a sponsor of bloody russian terrorists!\n",
              "206    Stop your operations in Russia and learn to ma...\n",
              "208    Hey any reason you?re denying black women cash...\n",
              "209    As a long time customer and a AA advantage car...\n",
              "212    This will be in the history. Do you really nee...\n",
              "213    One of your branches racially profiled a black...\n",
              "214    Let us thank   for increasing cooperation with...\n",
              "215    I sold my  shares owing to your continued busi...\n",
              "224       Supports ABORTION ! ! !  I closed my account !\n",
              "228    I've been a victim of fraud last March and you...\n",
              "229    Worst  ever. Refuses to refund $1450 that was ...\n",
              "Name: Comment, dtype: object"
            ]
          },
          "metadata": {},
          "execution_count": 182
        }
      ]
    },
    {
      "cell_type": "code",
      "source": [
        "# total no. of words in negative Comments\n",
        "\n",
        "df_negative = df_negative.to_string()\n",
        "total_words = df_negative.split()\n",
        "total_word_length = len(total_words)\n",
        "print(total_word_length)"
      ],
      "metadata": {
        "colab": {
          "base_uri": "https://localhost:8080/"
        },
        "id": "C4ifw68BsnMB",
        "outputId": "555d8560-83b1-45c8-d69a-bf3640618937"
      },
      "execution_count": 183,
      "outputs": [
        {
          "output_type": "stream",
          "name": "stdout",
          "text": [
            "511\n"
          ]
        }
      ]
    },
    {
      "cell_type": "code",
      "source": [
        "# total no. of sentences in negative Comments\n",
        "\n",
        "total_sentences = tokenize.sent_tokenize(df_negative)\n",
        "total_sent_len = len(total_sentences)\n",
        "print(total_sent_len)"
      ],
      "metadata": {
        "colab": {
          "base_uri": "https://localhost:8080/"
        },
        "id": "x_Bqlnpls26k",
        "outputId": "54267ca5-7821-4fb9-cefb-7f292f33fa7e"
      },
      "execution_count": 184,
      "outputs": [
        {
          "output_type": "stream",
          "name": "stdout",
          "text": [
            "15\n"
          ]
        }
      ]
    },
    {
      "cell_type": "code",
      "source": [
        "tf_score = {}\n",
        "for each_word in total_words:\n",
        "    each_word = each_word.replace('.','')\n",
        "    if each_word not in stop_words:\n",
        "        if each_word in tf_score:\n",
        "            tf_score[each_word] += 1\n",
        "        else:\n",
        "            tf_score[each_word] = 1\n",
        "tf_score.update((x, y/int(total_word_length)) for x, y in tf_score.items())"
      ],
      "metadata": {
        "id": "FkjGo4ivs_be"
      },
      "execution_count": 185,
      "outputs": []
    },
    {
      "cell_type": "code",
      "source": [
        "idf_score = {}\n",
        "for each_word in total_words:\n",
        "    each_word = each_word.replace('.','')\n",
        "    if each_word not in stop_words:\n",
        "        if each_word in idf_score:\n",
        "            idf_score[each_word] = check_sent(each_word, total_sentences)\n",
        "        else:\n",
        "            idf_score[each_word] = 1\n",
        "\n",
        "\n",
        "idf_score.update((x, math.log(int(total_sent_len)/y)) for x, y in idf_score.items())"
      ],
      "metadata": {
        "id": "oIZwIntXtAEm"
      },
      "execution_count": 186,
      "outputs": []
    },
    {
      "cell_type": "code",
      "source": [
        "tf_idf_score = {key: tf_score[key] * idf_score.get(key, 0) for key in tf_score.keys()}"
      ],
      "metadata": {
        "id": "ywBwu7outGyN"
      },
      "execution_count": 187,
      "outputs": []
    },
    {
      "cell_type": "code",
      "source": [
        "# Top 22 important words from negative tweets since 22.17% of negative Comments\n",
        "\n",
        "get_top_n(tf_idf_score, 22)"
      ],
      "metadata": {
        "colab": {
          "base_uri": "https://localhost:8080/"
        },
        "id": "sC58UE9_tJzh",
        "outputId": "db520f64-60e4-4925-cdd5-f2d71d509992"
      },
      "execution_count": 188,
      "outputs": [
        {
          "output_type": "execute_result",
          "data": {
            "text/plain": [
              "{'!': 0.007172530190795734,\n",
              " '$1450': 0.00944875486751918,\n",
              " '18': 0.005299511156755792,\n",
              " '3': 0.005299511156755792,\n",
              " '35': 0.005299511156755792,\n",
              " '41': 0.005299511156755792,\n",
              " 'AI4GOV': 0.005299511156755792,\n",
              " 'Guys': 0.006299169911679453,\n",
              " 'I': 0.008728211720528,\n",
              " \"I'm\": 0.007759819021422619,\n",
              " 'I?m': 0.010599022313511584,\n",
              " 'In': 0.005299511156755792,\n",
              " 'Martin': 0.005299511156755792,\n",
              " 'Philippines': 0.005299511156755792,\n",
              " 'Refuses': 0.005379397643096801,\n",
              " 'THEY': 0.006299169911679453,\n",
              " 'Ukrainians': 0.006299169911679453,\n",
              " 'Worst': 0.005379397643096801,\n",
              " 'based': 0.005299511156755792,\n",
              " 'honor': 0.005299511156755792,\n",
              " 'staff???': 0.006299169911679453,\n",
              " 'startup': 0.005299511156755792}"
            ]
          },
          "metadata": {},
          "execution_count": 188
        }
      ]
    },
    {
      "cell_type": "code",
      "source": [
        "df_dummy = df[df['Comment_type'] == 'Neutral Comment']\n",
        "df_neutral = df_dummy['Comment']\n",
        "del(df_dummy)\n",
        "df_neutral"
      ],
      "metadata": {
        "colab": {
          "base_uri": "https://localhost:8080/"
        },
        "id": "V_5ewrwdtKK2",
        "outputId": "047245ed-9c36-4271-c2f5-79b781427372"
      },
      "execution_count": 189,
      "outputs": [
        {
          "output_type": "execute_result",
          "data": {
            "text/plain": [
              "1                                 l am waiting 15 Th may\n",
              "4      \\r[PHOTO] scontentatl32.xx.fbcdn.netvt39.19976...\n",
              "5            Thoda sa pyar thoda sa time aur kuchh nahin\n",
              "6      \\r[PHOTO] externalatl32.xx.fbcdn.netsafe.php?w...\n",
              "7                                  Thodi si ijjat chahie\n",
              "                             ...                        \n",
              "217     values? www.youtube.comwatch?v=2tz7stTA\\r[PHO...\n",
              "219    vm.tiktok.comZTdar4uWJ\\r[PHOTO] external.feze1...\n",
              "222                                              algeria\n",
              "223                                              algeria\n",
              "226    Victoria Mathew is an expert in forex and cryp...\n",
              "Name: Comment, Length: 93, dtype: object"
            ]
          },
          "metadata": {},
          "execution_count": 189
        }
      ]
    },
    {
      "cell_type": "code",
      "source": [
        "# total no. of words in neutral Tweets\n",
        "\n",
        "df_neutral = df_neutral.to_string()\n",
        "total_words = df_neutral.split()\n",
        "total_word_length = len(total_words)\n",
        "print(total_word_length)"
      ],
      "metadata": {
        "colab": {
          "base_uri": "https://localhost:8080/"
        },
        "id": "MirFIA2qtr00",
        "outputId": "1aef4703-d986-45fe-fc43-703379a4dfd3"
      },
      "execution_count": 190,
      "outputs": [
        {
          "output_type": "stream",
          "name": "stdout",
          "text": [
            "557\n"
          ]
        }
      ]
    },
    {
      "cell_type": "code",
      "source": [
        "# total no. of sentences in neutral Tweets\n",
        "\n",
        "total_sentences = tokenize.sent_tokenize(df_neutral)\n",
        "total_sent_len = len(total_sentences)\n",
        "print(total_sent_len)"
      ],
      "metadata": {
        "colab": {
          "base_uri": "https://localhost:8080/"
        },
        "id": "Bi6-iLOXtwWD",
        "outputId": "ea7c902d-935c-4543-8757-049183cb4463"
      },
      "execution_count": 191,
      "outputs": [
        {
          "output_type": "stream",
          "name": "stdout",
          "text": [
            "42\n"
          ]
        }
      ]
    },
    {
      "cell_type": "markdown",
      "source": [
        "tf-idf calculation :"
      ],
      "metadata": {
        "id": "wMES_G9_t-H3"
      }
    },
    {
      "cell_type": "code",
      "source": [
        "tf_score = {}\n",
        "for each_word in total_words:\n",
        "    each_word = each_word.replace('.','')\n",
        "    if each_word not in stop_words:\n",
        "        if each_word in tf_score:\n",
        "            tf_score[each_word] += 1\n",
        "        else:\n",
        "            tf_score[each_word] = 1\n",
        "tf_score.update((x, y/int(total_word_length)) for x, y in tf_score.items())"
      ],
      "metadata": {
        "id": "UeiCUBu6t-3k"
      },
      "execution_count": 192,
      "outputs": []
    },
    {
      "cell_type": "code",
      "source": [
        "idf_score = {}\n",
        "for each_word in total_words:\n",
        "    each_word = each_word.replace('.','')\n",
        "    if each_word not in stop_words:\n",
        "        if each_word in idf_score:\n",
        "            idf_score[each_word] = check_sent(each_word, total_sentences)\n",
        "        else:\n",
        "            idf_score[each_word] = 1\n",
        "\n",
        "\n",
        "idf_score.update((x, math.log(int(total_sent_len)/y)) for x, y in idf_score.items())"
      ],
      "metadata": {
        "id": "PPWZs0pQuAgk"
      },
      "execution_count": 193,
      "outputs": []
    },
    {
      "cell_type": "code",
      "source": [
        "tf_idf_score = {key: tf_score[key] * idf_score.get(key, 0) for key in tf_score.keys()}"
      ],
      "metadata": {
        "id": "QhSPaNWtuCUN"
      },
      "execution_count": 194,
      "outputs": []
    },
    {
      "cell_type": "code",
      "source": [
        "# Top 40 important words from neutral tweets since 40.43% tweets are neutral\n",
        "\n",
        "get_top_n(tf_idf_score, 40)"
      ],
      "metadata": {
        "colab": {
          "base_uri": "https://localhost:8080/"
        },
        "id": "YPTpJoPYuF48",
        "outputId": "cd12aa0c-6b9c-407e-a82c-52874e724cf5"
      },
      "execution_count": 195,
      "outputs": [
        {
          "output_type": "execute_result",
          "data": {
            "text/plain": [
              "{'1': 0.006710358381119153,\n",
              " '11': 0.006710358381119153,\n",
              " '12': 0.006710358381119153,\n",
              " '13': 0.006710358381119153,\n",
              " '14': 0.006710358381119153,\n",
              " '16': 0.006710358381119153,\n",
              " '19': 0.006710358381119153,\n",
              " '21': 0.006710358381119153,\n",
              " '37': 0.006710358381119153,\n",
              " '4': 0.006710358381119153,\n",
              " '5': 0.006710358381119153,\n",
              " '6': 0.006710358381119153,\n",
              " '7': 0.006710358381119153,\n",
              " '8': 0.006710358381119153,\n",
              " 'ARE': 0.012664498692083363,\n",
              " 'Boycott': 0.0069871100504679115,\n",
              " 'CITI': 0.009475968867559276,\n",
              " 'I': 0.009650410067655593,\n",
              " 'Kam': 0.009475968867559276,\n",
              " 'RUSSIA': 0.009475968867559276,\n",
              " 'Russia': 0.01848508827973354,\n",
              " 'Stop': 0.01183424368403709,\n",
              " 'Ukraine!': 0.01688599825611115,\n",
              " 'What': 0.007641765550625738,\n",
              " 'YOU': 0.012664498692083363,\n",
              " 'You': 0.011062441945760497,\n",
              " '\\\\r[PHOTO]': 0.02977070155482105,\n",
              " 'back': 0.006710358381119153,\n",
              " 'could': 0.006710358381119153,\n",
              " 'externalatl32xxfbcdnnetsafephp?w': 0.01688599825611115,\n",
              " 'externalfeze1': 0.010931857945146941,\n",
              " 'fbwatchcYopHx9FPq': 0.010931857945146941,\n",
              " 'giving': 0.006710358381119153,\n",
              " 'ijjat': 0.008442999128055574,\n",
              " 'kill': 0.00788949578935806,\n",
              " 'provide': 0.008421689485255525,\n",
              " 'scontentatl32xxfbcdnnetvt1552561': 0.008442999128055574,\n",
              " 'scontentatl32xxfbcdnnetvt3919976': 0.009475968867559276,\n",
              " 'scontentatl32xxfbcdnnetvt3930808': 0.010931857945146941,\n",
              " 'twittercomimposterstatus1506699134144811008?s': 0.010931857945146941}"
            ]
          },
          "metadata": {},
          "execution_count": 195
        }
      ]
    }
  ]
}